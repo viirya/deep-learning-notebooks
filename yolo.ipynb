{
  "nbformat": 4,
  "nbformat_minor": 0,
  "metadata": {
    "colab": {
      "name": "script.ipynb",
      "version": "0.3.2",
      "provenance": []
    },
    "kernelspec": {
      "display_name": "Python 3",
      "language": "python",
      "name": "python3"
    },
    "accelerator": "GPU"
  },
  "cells": [
    {
      "cell_type": "markdown",
      "metadata": {
        "id": "view-in-github",
        "colab_type": "text"
      },
      "source": [
        "[View in Colaboratory](https://colab.research.google.com/github/viirya/deep-learning-notebooks/blob/master/yolo.ipynb)"
      ]
    },
    {
      "metadata": {
        "id": "sizVlPNFRxkA",
        "colab_type": "text"
      },
      "cell_type": "markdown",
      "source": [
        "# Intro\n",
        "\n",
        "This piece of work is inspired by a [youtube video lecture](https://www.youtube.com/watch?v=vaL1I2BD_xY) by Martin Gorner, a Google developer \n",
        "who put forth this idea of combining YOLO grid with SqueezeNet (instead of DarkNet - original stack for [YOLO](https://arxiv.org/pdf/1506.02640.pdf)). Original paper states - \" Our model struggles with small objects that appear in groups, such as flocks of birds.\", but it seems that YOLO can be useful for swarm type things as well."
      ]
    },
    {
      "metadata": {
        "id": "5MfkMSLRSnyt",
        "colab_type": "code",
        "colab": {
          "resources": {
            "http://localhost:8080/nbextensions/google.colab/files.js": {
              "data": "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",
              "ok": true,
              "headers": [
                [
                  "content-type",
                  "application/javascript"
                ]
              ],
              "status": 200,
              "status_text": "OK"
            }
          },
          "base_uri": "https://localhost:8080/",
          "height": 87
        },
        "outputId": "e4609ee1-a526-49a2-a634-a4438f2526b8"
      },
      "cell_type": "code",
      "source": [
        "from google.colab import files\n",
        "\n",
        "uploaded = files.upload()\n",
        "\n",
        "for fn in uploaded.keys():\n",
        "  print('User uploaded file \"{name}\" with length {length} bytes'.format(name=fn, length=len(uploaded[fn])))"
      ],
      "execution_count": 3,
      "outputs": [
        {
          "output_type": "display_data",
          "data": {
            "text/html": [
              "\n",
              "     <input type=\"file\" id=\"files-c5b4e64a-7ebc-4814-814f-bfbf502018ed\" name=\"files[]\" multiple disabled />\n",
              "     <output id=\"result-c5b4e64a-7ebc-4814-814f-bfbf502018ed\">\n",
              "      Upload widget is only available when the cell has been executed in the\n",
              "      current browser session. Please rerun this cell to enable.\n",
              "      </output>\n",
              "      <script src=\"/nbextensions/google.colab/files.js\"></script> "
            ],
            "text/plain": [
              "<IPython.core.display.HTML object>"
            ]
          },
          "metadata": {
            "tags": []
          }
        },
        {
          "output_type": "stream",
          "text": [
            "Saving bboxes.csv to bboxes.csv\n",
            "User uploaded file \"bboxes.csv\" with length 13463850 bytes\n"
          ],
          "name": "stdout"
        }
      ]
    },
    {
      "metadata": {
        "id": "plKY8lRJTQ7m",
        "colab_type": "code",
        "colab": {
          "base_uri": "https://localhost:8080/",
          "height": 3642
        },
        "outputId": "8b16e55e-6992-4d20-a41d-52b631290867"
      },
      "cell_type": "code",
      "source": [
        "!mkdir -p dataset/data-science-bowl-2018-2/stage1_train\n",
        "!mkdir -p dataset/data-science-bowl-2018-2/stage1_test\n",
        "#!ls -al\n",
        "!cd dataset/data-science-bowl-2018-2/stage1_test && ls -al\n",
        "!mv stage1_test.zip dataset/data-science-bowl-2018-2/stage1_test/.\n",
        "!cd dataset/data-science-bowl-2018-2/stage1_test && ls -al && unzip stage1_test.zip && mv stage1_test.zip ../../../.\n",
        "#!mv bboxes.csv dataset/data-science-bowl-2018-2/.\n",
        "#!ls -al"
      ],
      "execution_count": 6,
      "outputs": [
        {
          "output_type": "stream",
          "text": [
            "total 80992\r\n",
            "drwxr-xr-x 2 root root     4096 May 16 22:49 .\r\n",
            "drwxr-xr-x 4 root root     4096 May 16 22:48 ..\r\n",
            "-rw-r--r-- 1 root root 82923446 May 16 22:33 stage1_train.zip\n",
            "total 90316\n",
            "drwxr-xr-x 2 root root     4096 May 16 22:49 .\n",
            "drwxr-xr-x 4 root root     4096 May 16 22:48 ..\n",
            "-rw-r--r-- 1 root root  9545388 May 16 22:38 stage1_test.zip\n",
            "-rw-r--r-- 1 root root 82923446 May 16 22:33 stage1_train.zip\n",
            "Archive:  stage1_test.zip\n",
            "   creating: 0114f484a16c152baa2d82fdd43740880a762c93f436c8988ac461c5c9dbe7d5/\n",
            "   creating: 0999dab07b11bc85fb8464fc36c947fbd8b5d6ec49817361cb780659ca805eac/\n",
            "   creating: 0a849e0eb15faa8a6d7329c3dd66aabe9a294cccb52ed30a90c8ca99092ae732/\n",
            "   creating: 0e132f71c8b4875c3c2dd7a22997468a3e842b46aa9bd47cf7b0e8b7d63f0925/\n",
            "   creating: 0ed3555a4bd48046d3b63d8baf03a5aa97e523aa483aaa07459e7afa39fb96c6/\n",
            "   creating: 0f1f896d9ae5a04752d3239c690402c022db4d72c0d2c087d73380896f72c466/\n",
            "   creating: 1747f62148a919c8feb6d607faeebdf504b5e2ad42b6b1710b1189c37ebcdb2c/\n",
            "   creating: 17b9bf4356db24967c4677b8376ac38f826de73a88b93a8d73a8b452e399cdff/\n",
            "   creating: 1879f4f4f05e2bada0ffeb46c128b8df7a79b14c84f38c3e216a69653495153b/\n",
            "   creating: 191b2b2205f2f5cc9da04702c5d422bc249faf8bca1107af792da63cccfba829/\n",
            "   creating: 1962d0c5faf3e85cda80e0578e0cb7aca50826d781620e5c1c4cc586bc69f81a/\n",
            "   creating: 1cdbfee1951356e7b0a215073828695fe1ead5f8b1add119b6645d2fdc8d844e/\n",
            "   creating: 1d9eacb3161f1e2b45550389ecf7c535c7199c6b44b1c6a46303f7b965e508f1/\n",
            "   creating: 1ef68e93964c2d9230100c1347c328f6385a7bc027879dc3d4c055e6fe80cb3c/\n",
            "   creating: 259b35151d4a7a5ffdd7ab7f171b142db8cfe40beeee67277fac6adca4d042c4/\n",
            "   creating: 295682d9eb5acb5c1976a460c085734bfaf38482b0a3f02591c2bfdcd4128549/\n",
            "   creating: 31f1fbe85b8899258ea5bcf5f93f7ac8238660c386aeab40649c715bd2e38a0a/\n",
            "   creating: 336d3e4105766f8ad328a7ee9571e743f376f8cbcf6a969ca7e353fe3235c523/\n",
            "   creating: 38f5cfb55fc8b048e82a5c895b25fefae7a70c71ab9990c535d1030637bf6a1f/\n",
            "   creating: 3c4c675825f7509877bc10497f498c9a2e3433bf922bd870914a2eb21a54fd26/\n",
            "   creating: 432f367a4c5b5674de2e2977744d10289a064e5704b21af6607b4975be47c580/\n",
            "   creating: 43a71aeb641faa18742cb826772a8566c6c947d7050f9ab15459de6cc2b3b6af/\n",
            "   creating: 44afae184c89e6ba55985b4d341acc1ae1e8b6ef96312064e0e6e630e022b078/\n",
            "   creating: 4727d94c6a57ed484270fdd8bbc6e3d5f2f15d5476794a4e37a40f2309a091e2/\n",
            "   creating: 472b1c5ff988dadc209faea92499bc07f305208dbda29d16262b3d543ac91c71/\n",
            "   creating: 4be73d68f433869188fe5e7f09c7f681ed51003da6aa5d19ce368726d8e271ee/\n",
            "   creating: 4f949bd8d914bbfa06f40d6a0e2b5b75c38bf53dbcbafc48c97f105bee4f8fac/\n",
            "   creating: 505bc0a3928d8aef5ce441c5a611fdd32e1e8eccdc15cc3a52b88030acb50f81/\n",
            "   creating: 519dc0d672d1c295fc69b629af8721ccb1a1f136d1976685a68487e62547ffe0/\n",
            "   creating: 51c70bb8a299943b27f8b354571272692d8f2705036a1a9562156c76da5f025b/\n",
            "   creating: 52b267e20519174e3ce1e1994b5d677804b16bc670aa5f6ffb6344a0fdf63fde/\n",
            "   creating: 53df5150ee56253fe5bc91a9230d377bb21f1300f443ba45a758bcb01a15c0e4/\n",
            "   creating: 550450e4bff4036fd671decdc5d42fec23578198d6a2fd79179c4368b9d6da18/\n",
            "   creating: 5cee644e5ffbef1ba021c7f389b33bafd3b1841f04d3edd7922d5084c2c4e0c7/\n",
            "   creating: 648c8ffa496e1716017906d0bf135debfc93386ae86aa3d4adbda9a505985fd9/\n",
            "   creating: 697a05c6fe4a07c601d46da80885645ad574ea19b47ee795ccff216c9f1f1808/\n",
            "   creating: 699f2992cd71e2e28cf45f81347ff22e76b37541ce88087742884cd0e9aadc68/\n",
            "   creating: 78a981bd27ba0c65a9169548665a17bda9f49050d0d3893a6567d1eb92cd003d/\n",
            "   creating: 7bdb668e6127b7eafc837a883f0648002bd063c736f55a4f673e787250a3fb04/\n",
            "   creating: 7f4cbe0b36b5d09466476a7d4e01f4f976c67872d549f4ff47b3e1e3a2b403af/\n",
            "   creating: 8922a6ac8fd0258ec27738ca101867169b20d90a60fc84f93df77acd5bf7c80b/\n",
            "   creating: 8b59819fbc92eefe45b1db95c0cc3a467ddcfc755684c7f2ba2f6ccb9ad740ab/\n",
            "   creating: 912a679e4b9b1d1a75170254fd675b8c24b664d80ad7ea7e460241a23535a406/\n",
            "   creating: 9ab2d381f90b485a68b82bc07f94397a0373e3215ad20935a958738e55f3cfc2/\n",
            "   creating: 9f17aea854db13015d19b34cb2022cfdeda44133323fcd6bb3545f7b9404d8ab/\n",
            "   creating: a4816cc1fb76cb3c5e481186833fc0ae9cf426a1406a2607e974e65e9cddba4f/\n",
            "   creating: a984e7fb886aa02e29d112766d3ce26a4f78eac540ce7bbdbd42af2761928f6d/\n",
            "   creating: ab298b962a63e4be9582513aaa84a5e270adba5fd2b16a50e59540524f63c3b8/\n",
            "   creating: ade080c6618cbbb0a25680cf847f312b5e19b22bfe1cafec0436987ebe5b1e7e/\n",
            "   creating: b83d1d77935b6cfd44105b54600ffc4b6bd82de57dec65571bcb117fa8398ba3/\n",
            "   creating: bdc789019cee8ddfae20d5f769299993b4b330b2d38d1218646cf89e77fbbd4d/\n",
            "   creating: c8e79ff4ac55f4b772057de28e539727b7f4f2a3de73bf7a082a0ace86d609eb/\n",
            "   creating: ca20076870e8fb604e61802605a9ac45419c82dd3e23404c56c4869f9502a5ef/\n",
            "   creating: d616d323a9eeb9da1b66f8d5df671d63c092c9919cb2c0b223e29c63257c944d/\n",
            "   creating: d6eb7ce7723e2f6dc13b90b41a29ded27dbd815bad633fdf582447c686018896/\n",
            "   creating: d8d4bf68a76e4e4c5f21de7ac613451f7115a04db686151e78b8ec0b6a22022b/\n",
            "   creating: da6c593410340b19bb212b9f6d274f95b08c0fc8f2570cd66bc5ed42c560acab/\n",
            "   creating: dab46d798d29aff2e99c23f47ed3064f5cafb1644629b015c95a2dd2ee593bb4/\n",
            "   creating: df40099c6306ca1f47fcc8a62e2fa39486d4e223177afdc51b2ad189691802d8/\n",
            "   creating: e17b7aedd251a016c01ef9158e6e4aa940d9f1b35942d86028dc1222192a9258/\n",
            "   creating: eea70a7948d25a9a791dbcb39228af4ea4049fe5ebdee9c04884be8cca3da835/\n",
            "   creating: f0d0ab13ff53adc3c4d57e95a5f83d80b06f2cbc0bf002b52cf7b496612e0ce4/\n",
            "   creating: f5effed21f671bbf4551ecebb7fe95f3be1cf09c16a60afe64d2f0b95be9d1eb/\n",
            "   creating: fac507fa4d1649e8b24c195d990f1fc3ca3633d917839e1751a9d412a14ab5e3/\n",
            "   creating: fe9adb627a6f45747c5a8223b671774791ededf9364f6544be487c540107fa4f/\n",
            "   creating: 0114f484a16c152baa2d82fdd43740880a762c93f436c8988ac461c5c9dbe7d5/images/\n",
            "  inflating: 0114f484a16c152baa2d82fdd43740880a762c93f436c8988ac461c5c9dbe7d5/images/0114f484a16c152baa2d82fdd43740880a762c93f436c8988ac461c5c9dbe7d5.png  \n",
            "   creating: 0999dab07b11bc85fb8464fc36c947fbd8b5d6ec49817361cb780659ca805eac/images/\n",
            "  inflating: 0999dab07b11bc85fb8464fc36c947fbd8b5d6ec49817361cb780659ca805eac/images/0999dab07b11bc85fb8464fc36c947fbd8b5d6ec49817361cb780659ca805eac.png  \n",
            "   creating: 0a849e0eb15faa8a6d7329c3dd66aabe9a294cccb52ed30a90c8ca99092ae732/images/\n",
            "  inflating: 0a849e0eb15faa8a6d7329c3dd66aabe9a294cccb52ed30a90c8ca99092ae732/images/0a849e0eb15faa8a6d7329c3dd66aabe9a294cccb52ed30a90c8ca99092ae732.png  \n",
            "   creating: 0e132f71c8b4875c3c2dd7a22997468a3e842b46aa9bd47cf7b0e8b7d63f0925/images/\n",
            "  inflating: 0e132f71c8b4875c3c2dd7a22997468a3e842b46aa9bd47cf7b0e8b7d63f0925/images/0e132f71c8b4875c3c2dd7a22997468a3e842b46aa9bd47cf7b0e8b7d63f0925.png  \n",
            "   creating: 0ed3555a4bd48046d3b63d8baf03a5aa97e523aa483aaa07459e7afa39fb96c6/images/\n",
            "  inflating: 0ed3555a4bd48046d3b63d8baf03a5aa97e523aa483aaa07459e7afa39fb96c6/images/0ed3555a4bd48046d3b63d8baf03a5aa97e523aa483aaa07459e7afa39fb96c6.png  \n",
            "   creating: 0f1f896d9ae5a04752d3239c690402c022db4d72c0d2c087d73380896f72c466/images/\n",
            "  inflating: 0f1f896d9ae5a04752d3239c690402c022db4d72c0d2c087d73380896f72c466/images/0f1f896d9ae5a04752d3239c690402c022db4d72c0d2c087d73380896f72c466.png  \n",
            "   creating: 1747f62148a919c8feb6d607faeebdf504b5e2ad42b6b1710b1189c37ebcdb2c/images/\n",
            "  inflating: 1747f62148a919c8feb6d607faeebdf504b5e2ad42b6b1710b1189c37ebcdb2c/images/1747f62148a919c8feb6d607faeebdf504b5e2ad42b6b1710b1189c37ebcdb2c.png  \n",
            "   creating: 17b9bf4356db24967c4677b8376ac38f826de73a88b93a8d73a8b452e399cdff/images/\n",
            "  inflating: 17b9bf4356db24967c4677b8376ac38f826de73a88b93a8d73a8b452e399cdff/images/17b9bf4356db24967c4677b8376ac38f826de73a88b93a8d73a8b452e399cdff.png  \n",
            "   creating: 1879f4f4f05e2bada0ffeb46c128b8df7a79b14c84f38c3e216a69653495153b/images/\n",
            "  inflating: 1879f4f4f05e2bada0ffeb46c128b8df7a79b14c84f38c3e216a69653495153b/images/1879f4f4f05e2bada0ffeb46c128b8df7a79b14c84f38c3e216a69653495153b.png  \n",
            "   creating: 191b2b2205f2f5cc9da04702c5d422bc249faf8bca1107af792da63cccfba829/images/\n",
            "  inflating: 191b2b2205f2f5cc9da04702c5d422bc249faf8bca1107af792da63cccfba829/images/191b2b2205f2f5cc9da04702c5d422bc249faf8bca1107af792da63cccfba829.png  \n",
            "   creating: 1962d0c5faf3e85cda80e0578e0cb7aca50826d781620e5c1c4cc586bc69f81a/images/\n",
            "  inflating: 1962d0c5faf3e85cda80e0578e0cb7aca50826d781620e5c1c4cc586bc69f81a/images/1962d0c5faf3e85cda80e0578e0cb7aca50826d781620e5c1c4cc586bc69f81a.png  \n",
            "   creating: 1cdbfee1951356e7b0a215073828695fe1ead5f8b1add119b6645d2fdc8d844e/images/\n",
            "  inflating: 1cdbfee1951356e7b0a215073828695fe1ead5f8b1add119b6645d2fdc8d844e/images/1cdbfee1951356e7b0a215073828695fe1ead5f8b1add119b6645d2fdc8d844e.png  \n",
            "   creating: 1d9eacb3161f1e2b45550389ecf7c535c7199c6b44b1c6a46303f7b965e508f1/images/\n",
            "  inflating: 1d9eacb3161f1e2b45550389ecf7c535c7199c6b44b1c6a46303f7b965e508f1/images/1d9eacb3161f1e2b45550389ecf7c535c7199c6b44b1c6a46303f7b965e508f1.png  \n",
            "   creating: 1ef68e93964c2d9230100c1347c328f6385a7bc027879dc3d4c055e6fe80cb3c/images/\n",
            "  inflating: 1ef68e93964c2d9230100c1347c328f6385a7bc027879dc3d4c055e6fe80cb3c/images/1ef68e93964c2d9230100c1347c328f6385a7bc027879dc3d4c055e6fe80cb3c.png  \n",
            "   creating: 259b35151d4a7a5ffdd7ab7f171b142db8cfe40beeee67277fac6adca4d042c4/images/\n",
            "  inflating: 259b35151d4a7a5ffdd7ab7f171b142db8cfe40beeee67277fac6adca4d042c4/images/259b35151d4a7a5ffdd7ab7f171b142db8cfe40beeee67277fac6adca4d042c4.png  \n",
            "   creating: 295682d9eb5acb5c1976a460c085734bfaf38482b0a3f02591c2bfdcd4128549/images/\n",
            "  inflating: 295682d9eb5acb5c1976a460c085734bfaf38482b0a3f02591c2bfdcd4128549/images/295682d9eb5acb5c1976a460c085734bfaf38482b0a3f02591c2bfdcd4128549.png  \n",
            "   creating: 31f1fbe85b8899258ea5bcf5f93f7ac8238660c386aeab40649c715bd2e38a0a/images/\n",
            "  inflating: 31f1fbe85b8899258ea5bcf5f93f7ac8238660c386aeab40649c715bd2e38a0a/images/31f1fbe85b8899258ea5bcf5f93f7ac8238660c386aeab40649c715bd2e38a0a.png  \n",
            "   creating: 336d3e4105766f8ad328a7ee9571e743f376f8cbcf6a969ca7e353fe3235c523/images/\n",
            "  inflating: 336d3e4105766f8ad328a7ee9571e743f376f8cbcf6a969ca7e353fe3235c523/images/336d3e4105766f8ad328a7ee9571e743f376f8cbcf6a969ca7e353fe3235c523.png  \n",
            "   creating: 38f5cfb55fc8b048e82a5c895b25fefae7a70c71ab9990c535d1030637bf6a1f/images/\n",
            "  inflating: 38f5cfb55fc8b048e82a5c895b25fefae7a70c71ab9990c535d1030637bf6a1f/images/38f5cfb55fc8b048e82a5c895b25fefae7a70c71ab9990c535d1030637bf6a1f.png  \n",
            "   creating: 3c4c675825f7509877bc10497f498c9a2e3433bf922bd870914a2eb21a54fd26/images/\n",
            "  inflating: 3c4c675825f7509877bc10497f498c9a2e3433bf922bd870914a2eb21a54fd26/images/3c4c675825f7509877bc10497f498c9a2e3433bf922bd870914a2eb21a54fd26.png  \n",
            "   creating: 432f367a4c5b5674de2e2977744d10289a064e5704b21af6607b4975be47c580/images/\n",
            "  inflating: 432f367a4c5b5674de2e2977744d10289a064e5704b21af6607b4975be47c580/images/432f367a4c5b5674de2e2977744d10289a064e5704b21af6607b4975be47c580.png  \n",
            "   creating: 43a71aeb641faa18742cb826772a8566c6c947d7050f9ab15459de6cc2b3b6af/images/\n",
            "  inflating: 43a71aeb641faa18742cb826772a8566c6c947d7050f9ab15459de6cc2b3b6af/images/43a71aeb641faa18742cb826772a8566c6c947d7050f9ab15459de6cc2b3b6af.png  \n",
            "   creating: 44afae184c89e6ba55985b4d341acc1ae1e8b6ef96312064e0e6e630e022b078/images/\n",
            "  inflating: 44afae184c89e6ba55985b4d341acc1ae1e8b6ef96312064e0e6e630e022b078/images/44afae184c89e6ba55985b4d341acc1ae1e8b6ef96312064e0e6e630e022b078.png  \n",
            "   creating: 4727d94c6a57ed484270fdd8bbc6e3d5f2f15d5476794a4e37a40f2309a091e2/images/\n",
            "  inflating: 4727d94c6a57ed484270fdd8bbc6e3d5f2f15d5476794a4e37a40f2309a091e2/images/4727d94c6a57ed484270fdd8bbc6e3d5f2f15d5476794a4e37a40f2309a091e2.png  \n",
            "   creating: 472b1c5ff988dadc209faea92499bc07f305208dbda29d16262b3d543ac91c71/images/\n",
            "  inflating: 472b1c5ff988dadc209faea92499bc07f305208dbda29d16262b3d543ac91c71/images/472b1c5ff988dadc209faea92499bc07f305208dbda29d16262b3d543ac91c71.png  \n",
            "   creating: 4be73d68f433869188fe5e7f09c7f681ed51003da6aa5d19ce368726d8e271ee/images/\n",
            "  inflating: 4be73d68f433869188fe5e7f09c7f681ed51003da6aa5d19ce368726d8e271ee/images/4be73d68f433869188fe5e7f09c7f681ed51003da6aa5d19ce368726d8e271ee.png  \n",
            "   creating: 4f949bd8d914bbfa06f40d6a0e2b5b75c38bf53dbcbafc48c97f105bee4f8fac/images/\n",
            "  inflating: 4f949bd8d914bbfa06f40d6a0e2b5b75c38bf53dbcbafc48c97f105bee4f8fac/images/4f949bd8d914bbfa06f40d6a0e2b5b75c38bf53dbcbafc48c97f105bee4f8fac.png  \n",
            "   creating: 505bc0a3928d8aef5ce441c5a611fdd32e1e8eccdc15cc3a52b88030acb50f81/images/\n",
            "  inflating: 505bc0a3928d8aef5ce441c5a611fdd32e1e8eccdc15cc3a52b88030acb50f81/images/505bc0a3928d8aef5ce441c5a611fdd32e1e8eccdc15cc3a52b88030acb50f81.png  \n",
            "   creating: 519dc0d672d1c295fc69b629af8721ccb1a1f136d1976685a68487e62547ffe0/images/\n",
            "  inflating: 519dc0d672d1c295fc69b629af8721ccb1a1f136d1976685a68487e62547ffe0/images/519dc0d672d1c295fc69b629af8721ccb1a1f136d1976685a68487e62547ffe0.png  \n",
            "   creating: 51c70bb8a299943b27f8b354571272692d8f2705036a1a9562156c76da5f025b/images/\n",
            "  inflating: 51c70bb8a299943b27f8b354571272692d8f2705036a1a9562156c76da5f025b/images/51c70bb8a299943b27f8b354571272692d8f2705036a1a9562156c76da5f025b.png  \n",
            "   creating: 52b267e20519174e3ce1e1994b5d677804b16bc670aa5f6ffb6344a0fdf63fde/images/\n",
            "  inflating: 52b267e20519174e3ce1e1994b5d677804b16bc670aa5f6ffb6344a0fdf63fde/images/52b267e20519174e3ce1e1994b5d677804b16bc670aa5f6ffb6344a0fdf63fde.png  \n",
            "   creating: 53df5150ee56253fe5bc91a9230d377bb21f1300f443ba45a758bcb01a15c0e4/images/\n",
            "  inflating: 53df5150ee56253fe5bc91a9230d377bb21f1300f443ba45a758bcb01a15c0e4/images/53df5150ee56253fe5bc91a9230d377bb21f1300f443ba45a758bcb01a15c0e4.png  \n",
            "   creating: 550450e4bff4036fd671decdc5d42fec23578198d6a2fd79179c4368b9d6da18/images/\n",
            "  inflating: 550450e4bff4036fd671decdc5d42fec23578198d6a2fd79179c4368b9d6da18/images/550450e4bff4036fd671decdc5d42fec23578198d6a2fd79179c4368b9d6da18.png  \n",
            "   creating: 5cee644e5ffbef1ba021c7f389b33bafd3b1841f04d3edd7922d5084c2c4e0c7/images/\n",
            "  inflating: 5cee644e5ffbef1ba021c7f389b33bafd3b1841f04d3edd7922d5084c2c4e0c7/images/5cee644e5ffbef1ba021c7f389b33bafd3b1841f04d3edd7922d5084c2c4e0c7.png  \n",
            "   creating: 648c8ffa496e1716017906d0bf135debfc93386ae86aa3d4adbda9a505985fd9/images/\n",
            "  inflating: 648c8ffa496e1716017906d0bf135debfc93386ae86aa3d4adbda9a505985fd9/images/648c8ffa496e1716017906d0bf135debfc93386ae86aa3d4adbda9a505985fd9.png  \n",
            "   creating: 697a05c6fe4a07c601d46da80885645ad574ea19b47ee795ccff216c9f1f1808/images/\n",
            "  inflating: 697a05c6fe4a07c601d46da80885645ad574ea19b47ee795ccff216c9f1f1808/images/697a05c6fe4a07c601d46da80885645ad574ea19b47ee795ccff216c9f1f1808.png  \n",
            "   creating: 699f2992cd71e2e28cf45f81347ff22e76b37541ce88087742884cd0e9aadc68/images/\n",
            "  inflating: 699f2992cd71e2e28cf45f81347ff22e76b37541ce88087742884cd0e9aadc68/images/699f2992cd71e2e28cf45f81347ff22e76b37541ce88087742884cd0e9aadc68.png  \n",
            "   creating: 78a981bd27ba0c65a9169548665a17bda9f49050d0d3893a6567d1eb92cd003d/images/\n",
            "  inflating: 78a981bd27ba0c65a9169548665a17bda9f49050d0d3893a6567d1eb92cd003d/images/78a981bd27ba0c65a9169548665a17bda9f49050d0d3893a6567d1eb92cd003d.png  \n",
            "   creating: 7bdb668e6127b7eafc837a883f0648002bd063c736f55a4f673e787250a3fb04/images/\n",
            "  inflating: 7bdb668e6127b7eafc837a883f0648002bd063c736f55a4f673e787250a3fb04/images/7bdb668e6127b7eafc837a883f0648002bd063c736f55a4f673e787250a3fb04.png  \n",
            "   creating: 7f4cbe0b36b5d09466476a7d4e01f4f976c67872d549f4ff47b3e1e3a2b403af/images/\n",
            "  inflating: 7f4cbe0b36b5d09466476a7d4e01f4f976c67872d549f4ff47b3e1e3a2b403af/images/7f4cbe0b36b5d09466476a7d4e01f4f976c67872d549f4ff47b3e1e3a2b403af.png  \n",
            "   creating: 8922a6ac8fd0258ec27738ca101867169b20d90a60fc84f93df77acd5bf7c80b/images/\n",
            "  inflating: 8922a6ac8fd0258ec27738ca101867169b20d90a60fc84f93df77acd5bf7c80b/images/8922a6ac8fd0258ec27738ca101867169b20d90a60fc84f93df77acd5bf7c80b.png  \n",
            "   creating: 8b59819fbc92eefe45b1db95c0cc3a467ddcfc755684c7f2ba2f6ccb9ad740ab/images/\n",
            "  inflating: 8b59819fbc92eefe45b1db95c0cc3a467ddcfc755684c7f2ba2f6ccb9ad740ab/images/8b59819fbc92eefe45b1db95c0cc3a467ddcfc755684c7f2ba2f6ccb9ad740ab.png  \n",
            "   creating: 912a679e4b9b1d1a75170254fd675b8c24b664d80ad7ea7e460241a23535a406/images/\n",
            "  inflating: 912a679e4b9b1d1a75170254fd675b8c24b664d80ad7ea7e460241a23535a406/images/912a679e4b9b1d1a75170254fd675b8c24b664d80ad7ea7e460241a23535a406.png  \n",
            "   creating: 9ab2d381f90b485a68b82bc07f94397a0373e3215ad20935a958738e55f3cfc2/images/\n",
            "  inflating: 9ab2d381f90b485a68b82bc07f94397a0373e3215ad20935a958738e55f3cfc2/images/9ab2d381f90b485a68b82bc07f94397a0373e3215ad20935a958738e55f3cfc2.png  \n",
            "   creating: 9f17aea854db13015d19b34cb2022cfdeda44133323fcd6bb3545f7b9404d8ab/images/\n",
            "  inflating: 9f17aea854db13015d19b34cb2022cfdeda44133323fcd6bb3545f7b9404d8ab/images/9f17aea854db13015d19b34cb2022cfdeda44133323fcd6bb3545f7b9404d8ab.png  \n",
            "   creating: a4816cc1fb76cb3c5e481186833fc0ae9cf426a1406a2607e974e65e9cddba4f/images/\n",
            "  inflating: a4816cc1fb76cb3c5e481186833fc0ae9cf426a1406a2607e974e65e9cddba4f/images/a4816cc1fb76cb3c5e481186833fc0ae9cf426a1406a2607e974e65e9cddba4f.png  \n",
            "   creating: a984e7fb886aa02e29d112766d3ce26a4f78eac540ce7bbdbd42af2761928f6d/images/\n",
            "  inflating: a984e7fb886aa02e29d112766d3ce26a4f78eac540ce7bbdbd42af2761928f6d/images/a984e7fb886aa02e29d112766d3ce26a4f78eac540ce7bbdbd42af2761928f6d.png  \n",
            "   creating: ab298b962a63e4be9582513aaa84a5e270adba5fd2b16a50e59540524f63c3b8/images/\n",
            "  inflating: ab298b962a63e4be9582513aaa84a5e270adba5fd2b16a50e59540524f63c3b8/images/ab298b962a63e4be9582513aaa84a5e270adba5fd2b16a50e59540524f63c3b8.png  \n",
            "   creating: ade080c6618cbbb0a25680cf847f312b5e19b22bfe1cafec0436987ebe5b1e7e/images/\n",
            "  inflating: ade080c6618cbbb0a25680cf847f312b5e19b22bfe1cafec0436987ebe5b1e7e/images/ade080c6618cbbb0a25680cf847f312b5e19b22bfe1cafec0436987ebe5b1e7e.png  \n",
            "   creating: b83d1d77935b6cfd44105b54600ffc4b6bd82de57dec65571bcb117fa8398ba3/images/\n",
            "  inflating: b83d1d77935b6cfd44105b54600ffc4b6bd82de57dec65571bcb117fa8398ba3/images/b83d1d77935b6cfd44105b54600ffc4b6bd82de57dec65571bcb117fa8398ba3.png  \n",
            "   creating: bdc789019cee8ddfae20d5f769299993b4b330b2d38d1218646cf89e77fbbd4d/images/\n",
            "  inflating: bdc789019cee8ddfae20d5f769299993b4b330b2d38d1218646cf89e77fbbd4d/images/bdc789019cee8ddfae20d5f769299993b4b330b2d38d1218646cf89e77fbbd4d.png  \n",
            "   creating: c8e79ff4ac55f4b772057de28e539727b7f4f2a3de73bf7a082a0ace86d609eb/images/\n",
            "  inflating: c8e79ff4ac55f4b772057de28e539727b7f4f2a3de73bf7a082a0ace86d609eb/images/c8e79ff4ac55f4b772057de28e539727b7f4f2a3de73bf7a082a0ace86d609eb.png  \n",
            "   creating: ca20076870e8fb604e61802605a9ac45419c82dd3e23404c56c4869f9502a5ef/images/\n",
            "  inflating: ca20076870e8fb604e61802605a9ac45419c82dd3e23404c56c4869f9502a5ef/images/ca20076870e8fb604e61802605a9ac45419c82dd3e23404c56c4869f9502a5ef.png  \n",
            "   creating: d616d323a9eeb9da1b66f8d5df671d63c092c9919cb2c0b223e29c63257c944d/images/\n",
            "  inflating: d616d323a9eeb9da1b66f8d5df671d63c092c9919cb2c0b223e29c63257c944d/images/d616d323a9eeb9da1b66f8d5df671d63c092c9919cb2c0b223e29c63257c944d.png  \n",
            "   creating: d6eb7ce7723e2f6dc13b90b41a29ded27dbd815bad633fdf582447c686018896/images/\n",
            "  inflating: d6eb7ce7723e2f6dc13b90b41a29ded27dbd815bad633fdf582447c686018896/images/d6eb7ce7723e2f6dc13b90b41a29ded27dbd815bad633fdf582447c686018896.png  \n",
            "   creating: d8d4bf68a76e4e4c5f21de7ac613451f7115a04db686151e78b8ec0b6a22022b/images/\n",
            "  inflating: d8d4bf68a76e4e4c5f21de7ac613451f7115a04db686151e78b8ec0b6a22022b/images/d8d4bf68a76e4e4c5f21de7ac613451f7115a04db686151e78b8ec0b6a22022b.png  \n",
            "   creating: da6c593410340b19bb212b9f6d274f95b08c0fc8f2570cd66bc5ed42c560acab/images/\n",
            "  inflating: da6c593410340b19bb212b9f6d274f95b08c0fc8f2570cd66bc5ed42c560acab/images/da6c593410340b19bb212b9f6d274f95b08c0fc8f2570cd66bc5ed42c560acab.png  \n",
            "   creating: dab46d798d29aff2e99c23f47ed3064f5cafb1644629b015c95a2dd2ee593bb4/images/\n",
            "  inflating: dab46d798d29aff2e99c23f47ed3064f5cafb1644629b015c95a2dd2ee593bb4/images/dab46d798d29aff2e99c23f47ed3064f5cafb1644629b015c95a2dd2ee593bb4.png  \n",
            "   creating: df40099c6306ca1f47fcc8a62e2fa39486d4e223177afdc51b2ad189691802d8/images/\n",
            "  inflating: df40099c6306ca1f47fcc8a62e2fa39486d4e223177afdc51b2ad189691802d8/images/df40099c6306ca1f47fcc8a62e2fa39486d4e223177afdc51b2ad189691802d8.png  \n",
            "   creating: e17b7aedd251a016c01ef9158e6e4aa940d9f1b35942d86028dc1222192a9258/images/\n",
            "  inflating: e17b7aedd251a016c01ef9158e6e4aa940d9f1b35942d86028dc1222192a9258/images/e17b7aedd251a016c01ef9158e6e4aa940d9f1b35942d86028dc1222192a9258.png  \n",
            "   creating: eea70a7948d25a9a791dbcb39228af4ea4049fe5ebdee9c04884be8cca3da835/images/\n",
            "  inflating: eea70a7948d25a9a791dbcb39228af4ea4049fe5ebdee9c04884be8cca3da835/images/eea70a7948d25a9a791dbcb39228af4ea4049fe5ebdee9c04884be8cca3da835.png  \n",
            "   creating: f0d0ab13ff53adc3c4d57e95a5f83d80b06f2cbc0bf002b52cf7b496612e0ce4/images/\n",
            "  inflating: f0d0ab13ff53adc3c4d57e95a5f83d80b06f2cbc0bf002b52cf7b496612e0ce4/images/f0d0ab13ff53adc3c4d57e95a5f83d80b06f2cbc0bf002b52cf7b496612e0ce4.png  \n",
            "   creating: f5effed21f671bbf4551ecebb7fe95f3be1cf09c16a60afe64d2f0b95be9d1eb/images/\n",
            "  inflating: f5effed21f671bbf4551ecebb7fe95f3be1cf09c16a60afe64d2f0b95be9d1eb/images/f5effed21f671bbf4551ecebb7fe95f3be1cf09c16a60afe64d2f0b95be9d1eb.png  \n",
            "   creating: fac507fa4d1649e8b24c195d990f1fc3ca3633d917839e1751a9d412a14ab5e3/images/\n",
            "  inflating: fac507fa4d1649e8b24c195d990f1fc3ca3633d917839e1751a9d412a14ab5e3/images/fac507fa4d1649e8b24c195d990f1fc3ca3633d917839e1751a9d412a14ab5e3.png  \n",
            "   creating: fe9adb627a6f45747c5a8223b671774791ededf9364f6544be487c540107fa4f/images/\n",
            "  inflating: fe9adb627a6f45747c5a8223b671774791ededf9364f6544be487c540107fa4f/images/fe9adb627a6f45747c5a8223b671774791ededf9364f6544be487c540107fa4f.png  \n"
          ],
          "name": "stdout"
        }
      ]
    },
    {
      "metadata": {
        "id": "teAJm1cyRxkG",
        "colab_type": "code",
        "colab": {
          "base_uri": "https://localhost:8080/",
          "height": 125
        },
        "outputId": "6ae60525-285f-44d7-bf86-2262b6db63df"
      },
      "cell_type": "code",
      "source": [
        "!pip3 install tqdm\n",
        "import os\n",
        "import sys\n",
        "import numpy as np\n",
        "import tensorflow as tf\n",
        "import random\n",
        "import math\n",
        "import warnings\n",
        "import pandas as pd\n",
        "import cv2\n",
        "import matplotlib.pyplot as plt\n",
        "import matplotlib.cm as cm\n",
        "import matplotlib.ticker as ticker\n",
        "\n",
        "from tqdm import tqdm\n",
        "from itertools import chain\n",
        "from skimage.io import imread, imshow, imread_collection, concatenate_images\n",
        "from skimage.transform import resize\n",
        "from skimage.morphology import label\n",
        "\n",
        "warnings.filterwarnings('ignore', category=UserWarning, module='skimage')\n",
        "seed = 19\n",
        "random.seed = seed\n",
        "np.random.seed = seed"
      ],
      "execution_count": 7,
      "outputs": [
        {
          "output_type": "stream",
          "text": [
            "Collecting tqdm\n",
            "\u001b[?25l  Downloading https://files.pythonhosted.org/packages/d8/ca/6524dfba7a0e850d3fda223693779035ddc8bf5c242acd9ee4eb9e52711a/tqdm-4.23.3-py2.py3-none-any.whl (42kB)\n",
            "\u001b[K    100% |████████████████████████████████| 51kB 2.1MB/s \n",
            "\u001b[?25hInstalling collected packages: tqdm\n",
            "Successfully installed tqdm-4.23.3\n"
          ],
          "name": "stdout"
        }
      ]
    },
    {
      "metadata": {
        "id": "yqgIpdeYRxkb",
        "colab_type": "code",
        "colab": {}
      },
      "cell_type": "code",
      "source": [
        "#img = imread(\"input/0114f484a16c152baa2d82fdd43740880a762c93f436c8988ac461c5c9dbe7d5/images/0114f484a16c152baa2d82fdd43740880a762c93f436c8988ac461c5c9dbe7d5.png\")\n",
        "#imshow(img)"
      ],
      "execution_count": 0,
      "outputs": []
    },
    {
      "metadata": {
        "id": "P9iKtQLxRxkw",
        "colab_type": "code",
        "colab": {}
      },
      "cell_type": "code",
      "source": [
        "IMG_WIDTH = 384\n",
        "IMG_HEIGHT = 384\n",
        "IMG_CHANNELS = 3\n",
        "\n",
        "TRAIN_PATH = './dataset/data-science-bowl-2018-2/stage1_train'\n",
        "TEST_PATH = './dataset/data-science-bowl-2018-2/stage1_test'"
      ],
      "execution_count": 0,
      "outputs": []
    },
    {
      "metadata": {
        "id": "njfkv8anRxk9",
        "colab_type": "code",
        "colab": {}
      },
      "cell_type": "code",
      "source": [
        "train_ids = next(os.walk(TRAIN_PATH))[1]\n",
        "test_ids = next(os.walk(TEST_PATH))[1]\n",
        "\n",
        "train_images = np.zeros((len(train_ids), IMG_HEIGHT, IMG_WIDTH, IMG_CHANNELS), dtype=np.uint8)\n",
        "test_images = np.zeros((len(test_ids), IMG_HEIGHT, IMG_WIDTH, IMG_CHANNELS), dtype=np.uint8)"
      ],
      "execution_count": 0,
      "outputs": []
    },
    {
      "metadata": {
        "id": "3-g146TIRxlJ",
        "colab_type": "code",
        "colab": {
          "base_uri": "https://localhost:8080/",
          "height": 105
        },
        "outputId": "67cb3730-cbd2-4272-ad7f-24c6a24c72a4"
      },
      "cell_type": "code",
      "source": [
        "# Resize train images.\n",
        "print('resize train images... ')\n",
        "sys.stdout.flush()\n",
        "\n",
        "for n, id_ in tqdm(enumerate(train_ids), total=len(train_ids)):\n",
        "    path = TRAIN_PATH + \"/\" + id_\n",
        "    img = imread(path + '/images/' + id_ + '.png')[:,:,:IMG_CHANNELS]\n",
        "    img = resize(img, (IMG_HEIGHT, IMG_WIDTH), mode='constant', preserve_range=True)\n",
        "    \n",
        "    train_images[n] = img\n",
        "    \n",
        "# Get and resize test images\n",
        "sizes_test = []\n",
        "print('resize test images ... ')\n",
        "sys.stdout.flush()\n",
        "\n",
        "for n, id_ in tqdm(enumerate(test_ids), total=len(test_ids)):\n",
        "    path = TEST_PATH + \"/\" + id_\n",
        "    img = imread(path + '/images/' + id_ + '.png')[:,:,:IMG_CHANNELS]\n",
        "    sizes_test.append([img.shape[0], img.shape[1]])\n",
        "    img = resize(img, (IMG_HEIGHT, IMG_WIDTH), mode='constant', preserve_range=True)\n",
        "    test_images[n] = img\n",
        "\n",
        "print('Done!')"
      ],
      "execution_count": 10,
      "outputs": [
        {
          "output_type": "stream",
          "text": [
            "resize train images... \n"
          ],
          "name": "stdout"
        },
        {
          "output_type": "stream",
          "text": [
            "100%|██████████| 670/670 [00:20<00:00, 33.42it/s]"
          ],
          "name": "stderr"
        },
        {
          "output_type": "stream",
          "text": [
            "resize test images ... \n"
          ],
          "name": "stdout"
        },
        {
          "output_type": "stream",
          "text": [
            "\n",
            "100%|██████████| 65/65 [00:01<00:00, 32.67it/s]"
          ],
          "name": "stderr"
        },
        {
          "output_type": "stream",
          "text": [
            "Done!\n"
          ],
          "name": "stdout"
        },
        {
          "output_type": "stream",
          "text": [
            "\n"
          ],
          "name": "stderr"
        }
      ]
    },
    {
      "metadata": {
        "id": "6w2ERtDGRxlX",
        "colab_type": "code",
        "colab": {}
      },
      "cell_type": "code",
      "source": [
        "def store_bounding_boxes(img, train_id, mask_id, rotby_90):\n",
        "    ret, thresh = cv2.threshold(img, 127, 255, 0)\n",
        "    contours = cv2.findContours(thresh.astype(np.uint8), 1, 2)\n",
        "    cnt = contours[0]\n",
        "        \n",
        "    x, y, w, h = cv2.boundingRect(cnt)    \n",
        "    \n",
        "    x = x * (IMG_WIDTH/img.shape[1])\n",
        "    w = w * (IMG_WIDTH/img.shape[1])\n",
        "    y = y * (IMG_WIDTH/img.shape[0])\n",
        "    h = h * (IMG_WIDTH/img.shape[0])\n",
        "    \n",
        "    if(x > IMG_WIDTH-1):\n",
        "        x = IMG_WIDTH-1\n",
        "    if(y > IMG_HEIGHT-1):\n",
        "        y = IMG_HEIGHT-1\n",
        "    if(x+w > IMG_WIDTH-1):\n",
        "        w = IMG_WIDTH-1 - x\n",
        "    if(y+h > IMG_HEIGHT-1):\n",
        "        h = IMG_HEIGHT-1 - y\n",
        "        \n",
        "    bbdict = { \"train_id\": train_id, \"mask_id\": mask_id, \"rotby_90\": rotby_90, \"x\": x, \"y\": y, \"w\": w, \"h\": h}\n",
        "    return bbdict"
      ],
      "execution_count": 0,
      "outputs": []
    },
    {
      "metadata": {
        "id": "0o_N-NuORxlh",
        "colab_type": "code",
        "colab": {
          "base_uri": "https://localhost:8080/",
          "height": 1242
        },
        "outputId": "26e42310-d461-44a2-89c6-1a90f7e90da2"
      },
      "cell_type": "code",
      "source": [
        "img = imread(\"./dataset/data-science-bowl-2018-2/stage1_train/00071198d059ba7f5914a526d124d28e6d010c92466da21d4a04cd5413362552/images/00071198d059ba7f5914a526d124d28e6d010c92466da21d4a04cd5413362552.png\")\n",
        "plt.figure()\n",
        "imshow(img)\n",
        "\n",
        "maskImg = imread(\"./dataset/data-science-bowl-2018-2/stage1_train/00071198d059ba7f5914a526d124d28e6d010c92466da21d4a04cd5413362552/masks/07a9bf1d7594af2763c86e93f05d22c4d5181353c6d3ab30a345b908ffe5aadc.png\")\n",
        "plt.figure()\n",
        "imshow(maskImg)\n",
        "\n",
        "maskImg = imread(\"./dataset/data-science-bowl-2018-2/stage1_train/00071198d059ba7f5914a526d124d28e6d010c92466da21d4a04cd5413362552/masks/0e548d0af63ab451616f082eb56bde13eb71f73dfda92a03fbe88ad42ebb4881.png\")\n",
        "plt.figure()\n",
        "imshow(maskImg)\n"
      ],
      "execution_count": 12,
      "outputs": [
        {
          "output_type": "stream",
          "text": [
            "/usr/local/lib/python3.6/dist-packages/skimage/io/_plugins/matplotlib_plugin.py:51: FutureWarning: Conversion of the second argument of issubdtype from `float` to `np.floating` is deprecated. In future, it will be treated as `np.float64 == np.dtype(float).type`.\n",
            "  out_of_range_float = (np.issubdtype(image.dtype, np.float) and\n"
          ],
          "name": "stderr"
        },
        {
          "output_type": "execute_result",
          "data": {
            "text/plain": [
              "<matplotlib.image.AxesImage at 0x7f47aed0bf60>"
            ]
          },
          "metadata": {
            "tags": []
          },
          "execution_count": 12
        },
        {
          "output_type": "display_data",
          "data": {
            "image/png": "[encoded data removed]",
            "text/plain": [
              "<matplotlib.figure.Figure at 0x7f47b4a081d0>"
            ]
          },
          "metadata": {
            "tags": []
          }
        },
        {
          "output_type": "display_data",
          "data": {
            "image/png": "[encoded data removed]",
            "text/plain": [
              "<matplotlib.figure.Figure at 0x7f47aee88358>"
            ]
          },
          "metadata": {
            "tags": []
          }
        },
        {
          "output_type": "display_data",
          "data": {
            "image/png": "[encoded data removed]",
            "text/plain": [
              "<matplotlib.figure.Figure at 0x7f47aed4c828>"
            ]
          },
          "metadata": {
            "tags": []
          }
        }
      ]
    },
    {
      "metadata": {
        "id": "9VsNqTqgRxlz",
        "colab_type": "code",
        "colab": {}
      },
      "cell_type": "code",
      "source": [
        "path_bboxes_csv = \"./dataset/data-science-bowl-2018-2/bboxes.csv\"\n",
        "if not os.path.isfile(path_bboxes_csv):\n",
        "    bboxes = pd.DataFrame(columns=[\"train_id\", \"mask_id\", \"rotby_90\", \"x\", \"y\", \"w\", \"h\"])\n",
        "    row_count = 1\n",
        "    for n, id_ in tqdm(enumerate(train_ids), total=len(train_ids)):\n",
        "        path = TRAIN_PATH + \"/\" + id_\n",
        "        for mask_id, mask_file in enumerate(next(os.walk(path + '/masks/'))[2]):\n",
        "            mask_ = imread(path + '/masks/' + mask_file)\n",
        "            for r in range(4):\n",
        "                bboxes.loc[row_count] = store_bounding_boxes(np.rot90(mask_, r), id_, mask_id, r)\n",
        "                row_count += 1\n",
        "    bboxes.to_csv(path_bboxes_csv, index=False)\n",
        "else:\n",
        "    bboxes = pd.read_csv(path_bboxes_csv)"
      ],
      "execution_count": 0,
      "outputs": []
    },
    {
      "metadata": {
        "id": "TyWBmuw2RxmL",
        "colab_type": "code",
        "colab": {}
      },
      "cell_type": "code",
      "source": [
        "# Define grid cell size.\n",
        "GRID_DIM = 12\n",
        "# The width/height of a grid in pixel.\n",
        "GRID_PIX = IMG_WIDTH//GRID_DIM\n",
        "BATCH_SIZE = 14"
      ],
      "execution_count": 0,
      "outputs": []
    },
    {
      "metadata": {
        "id": "ZsFW-ZaDRxme",
        "colab_type": "code",
        "colab": {
          "base_uri": "https://localhost:8080/",
          "height": 35
        },
        "outputId": "83848285-f15a-43ef-c886-3395cab6ffe2"
      },
      "cell_type": "code",
      "source": [
        "train_ids_df = pd.DataFrame(columns=[\"idx\", \"id_\"])\n",
        "cnt = 0\n",
        "for n, id_ in tqdm(enumerate(train_ids), total=len(train_ids)):\n",
        "    train_ids_df.loc[cnt] = { \"idx\": n, \"id_\": id_}\n",
        "    cnt += 1\n",
        "\n",
        "train_ids_df = train_ids_df.set_index(['idx'])"
      ],
      "execution_count": 15,
      "outputs": [
        {
          "output_type": "stream",
          "text": [
            "100%|██████████| 670/670 [00:01<00:00, 370.26it/s]\n"
          ],
          "name": "stderr"
        }
      ]
    },
    {
      "metadata": {
        "id": "OrWOzpdfRxmx",
        "colab_type": "code",
        "colab": {}
      },
      "cell_type": "code",
      "source": [
        "# Grid-based coordinates of box (top-left corner).\n",
        "bboxes['grid_row'] = bboxes['y']//GRID_PIX\n",
        "bboxes['grid_column'] = bboxes['x']//GRID_PIX\n",
        "\n",
        "# The center coordinates of the grid this box is located at.\n",
        "bboxes['grid_center_x'] = bboxes['grid_column'] * GRID_PIX + GRID_PIX/2\n",
        "bboxes['grid_center_y'] = bboxes['grid_row'] * GRID_PIX + GRID_PIX/2\n",
        "\n",
        "# The center coordinates of box center.\n",
        "bboxes['box_center_x'] = bboxes.x + bboxes['w']/2\n",
        "bboxes['box_center_y'] = bboxes.y + bboxes['h']/2\n",
        "\n",
        "bboxes['new_x'] = (bboxes.box_center_x - bboxes.grid_center_x)/(IMG_WIDTH)\n",
        "bboxes['new_y'] = (bboxes.box_center_y - bboxes.grid_center_y)/(IMG_HEIGHT)\n",
        "\n",
        "bboxes['new_w'] = np.sqrt(bboxes.w/(IMG_WIDTH))\n",
        "bboxes['new_h'] = np.sqrt(bboxes.h/(IMG_WIDTH))\n",
        "\n",
        "# Here there is an object we know. So set object confidence to 1.\n",
        "bboxes['confidence'] = 1\n",
        "\n",
        "bboxes['box_area'] = bboxes.new_w*bboxes.new_h"
      ],
      "execution_count": 0,
      "outputs": []
    },
    {
      "metadata": {
        "id": "Cf_V68JQRxm8",
        "colab_type": "code",
        "colab": {}
      },
      "cell_type": "code",
      "source": [
        "mask_count = 1\n",
        "#Set maximum bounding boxes allowed per grid cell\n",
        "MAX_BB_CNT = 2"
      ],
      "execution_count": 0,
      "outputs": []
    },
    {
      "metadata": {
        "id": "CzWX2RayRxnH",
        "colab_type": "code",
        "colab": {}
      },
      "cell_type": "code",
      "source": [
        "def get_grid_info(tr_id, rotby_90):\n",
        "    df = bboxes.loc[(bboxes.train_id == tr_id) & (bboxes.rotby_90 == rotby_90), 'grid_row':'box_area']\n",
        "    df.drop(['grid_center_x', 'grid_center_y','box_center_x', 'box_center_y',], axis = 1, inplace=True)\n",
        "    df = df.sort_values(['grid_column', 'grid_row', 'box_area'], ascending=False)\n",
        "    #print(len(df))\n",
        "    global mask_count\n",
        "    mask_count += len(df)\n",
        "    label_info = np.zeros(shape=(GRID_DIM, GRID_DIM, MAX_BB_CNT, 5),  dtype=np.float32) + 0.000001\n",
        "    \n",
        "    for ind, row in df.iterrows():\n",
        "        i = int(row[0])\n",
        "        j = int(row[1])\n",
        "        for b in range(MAX_BB_CNT):\n",
        "            if(label_info[i, j, b][4] != 1.0):\n",
        "                label_info[i, j, b] = np.array(row[2:7])\n",
        "                break\n",
        "    return label_info"
      ],
      "execution_count": 0,
      "outputs": []
    },
    {
      "metadata": {
        "id": "bqGE2x5pRxnQ",
        "colab_type": "code",
        "colab": {}
      },
      "cell_type": "code",
      "source": [
        "def get_labels(counts, rotations):\n",
        "    grid_info = np.zeros(shape=(BATCH_SIZE, GRID_DIM, GRID_DIM, MAX_BB_CNT, 5), dtype=np.float32)\n",
        "    for i, c in enumerate(counts):\n",
        "        tr_id = train_ids_df.loc[c, 'id_']\n",
        "        grid_info[i] = get_grid_info(tr_id, rotations[i])\n",
        "    grid_info = np.reshape(grid_info, newshape=[BATCH_SIZE, GRID_DIM, GRID_DIM, MAX_BB_CNT, 5])\n",
        "    return grid_info"
      ],
      "execution_count": 0,
      "outputs": []
    },
    {
      "metadata": {
        "id": "moDYHrAkRxnb",
        "colab_type": "code",
        "colab": {}
      },
      "cell_type": "code",
      "source": [
        "def get_images(counts, rotations):\n",
        "    images = np.zeros(shape=(BATCH_SIZE, IMG_WIDTH, IMG_HEIGHT, IMG_CHANNELS), dtype=np.uint8)\n",
        "    for i, c in enumerate(counts):\n",
        "        images[i] = np.rot90(train_images[c], rotations[i])\n",
        "    return images"
      ],
      "execution_count": 0,
      "outputs": []
    },
    {
      "metadata": {
        "id": "epSPByJWRxnu",
        "colab_type": "code",
        "colab": {}
      },
      "cell_type": "code",
      "source": [
        "def next_batch():\n",
        "    rotations = []\n",
        "    rand_counts = []\n",
        "    for i in range(BATCH_SIZE):\n",
        "        rotations.append(random.randint(0, 3))\n",
        "        rand_counts.append(random.randint(0, 669))\n",
        "    return get_images(rand_counts, rotations), get_labels(rand_counts, rotations)"
      ],
      "execution_count": 0,
      "outputs": []
    },
    {
      "metadata": {
        "id": "RRfv9rPERxoE",
        "colab_type": "code",
        "colab": {}
      },
      "cell_type": "code",
      "source": [
        "tf.reset_default_graph()\n",
        "# input: image width x image height x 3 color dimensions.\n",
        "X = tf.placeholder(tf.float32, [None, IMG_WIDTH, IMG_HEIGHT, 3])\n",
        "# output: grid * grid * bounding box per cell * 5 variables (x, y, w, h, object confidence)\n",
        "Y_ = tf.placeholder(tf.float32, [None, GRID_DIM, GRID_DIM, MAX_BB_CNT, 5])\n",
        "lr = tf.placeholder(tf.float32)"
      ],
      "execution_count": 0,
      "outputs": []
    },
    {
      "metadata": {
        "id": "7LseFQxjRxoV",
        "colab_type": "code",
        "colab": {}
      },
      "cell_type": "code",
      "source": [
        "# logits: the final output from last convolutional layer.\n",
        "def process_logits(logits, name=None):\n",
        "    net = tf.reshape(logits, [-1, GRID_DIM*1, GRID_DIM*1, MAX_BB_CNT*5*16, 1])\n",
        "    net = tf.layers.average_pooling3d(net, [1, 1, 16], [1, 1, 16], padding=\"valid\")\n",
        "\n",
        "    # Each cell has 5 output values: (x, y, w, h, object confidence)\n",
        "    net = tf.reshape(net, [-1, GRID_DIM*GRID_DIM*MAX_BB_CNT, 5]) #GRID_DIM = 12\n",
        "    net = tf.transpose(net, [1, 2, 0])        \n",
        "\n",
        "    logits_tensor = tf.map_fn(lambda x:\n",
        "                            tf.stack([\n",
        "                                tf.tanh(x[0]),\n",
        "                                tf.tanh(x[1]),\n",
        "                                tf.sqrt(tf.sigmoid(x[2])),\n",
        "                                tf.sqrt(tf.sigmoid(x[3])),\n",
        "                                tf.sigmoid(x[4])\n",
        "                            ]), net)\n",
        "\n",
        "    logits_tensor = tf.transpose(logits_tensor, [2, 0, 1])\n",
        "    logits_tensor = tf.reshape(logits_tensor, [-1, GRID_DIM, GRID_DIM, MAX_BB_CNT, 5])\n",
        "\n",
        "    return logits_tensor"
      ],
      "execution_count": 0,
      "outputs": []
    },
    {
      "metadata": {
        "id": "kZfVuG5tRxoc",
        "colab_type": "code",
        "colab": {}
      },
      "cell_type": "code",
      "source": [
        "# Calculates loss value of model.\n",
        "def normalize_yolo_loss(processed_logits, lambda_coords, lambda_noobj):\n",
        "    # The diff between ground truth labels and predicated boxes.\n",
        "    yolo_loss = tf.reduce_sum(tf.squared_difference(labels, processed_logits), axis=0)\n",
        "    yolo_loss = tf.reduce_sum(yolo_loss, axis=0)\n",
        "    yolo_loss = tf.reduce_sum(yolo_loss, axis=0)\n",
        "    yolo_loss = tf.reduce_sum(yolo_loss, axis=0)\n",
        "\n",
        "    # (x, y) coordinate predication goes to multiply given weight: lambda_coords.\n",
        "    # (object confidence) predication goes to multiply another give weight: lambda_noobj.\n",
        "    yolo_loss = tf.stack([tf.multiply(lambda_coords, yolo_loss[0]), \n",
        "                          tf.multiply(lambda_coords, yolo_loss[1]),\n",
        "                          yolo_loss[2],\n",
        "                          yolo_loss[3],\n",
        "                          tf.multiply(lambda_noobj,yolo_loss[4])])\n",
        "    yolo_loss = tf.reduce_sum(yolo_loss)\n",
        "\n",
        "    return  yolo_loss"
      ],
      "execution_count": 0,
      "outputs": []
    },
    {
      "metadata": {
        "id": "7kjXWrAcRxov",
        "colab_type": "code",
        "colab": {}
      },
      "cell_type": "code",
      "source": [
        "def l_relu(features):\n",
        "    return tf.nn.leaky_relu(features, 0.1)"
      ],
      "execution_count": 0,
      "outputs": []
    },
    {
      "metadata": {
        "id": "X3lyzJbcRxpB",
        "colab_type": "code",
        "colab": {}
      },
      "cell_type": "code",
      "source": [
        "# Defines a squeeze layer which has only 1x1 filters.\n",
        "def squeeze_module(x, dim, idx):\n",
        "    name = 'conv_' + idx + '_sq'\n",
        "    return tf.layers.conv2d(x, filters=dim, kernel_size=1, strides=1, padding=\"same\", \n",
        "                           activation=l_relu, name=name)\n",
        "\n",
        "# Defines an expand layer which has a mix of 1x1 and 3x3 filters.\n",
        "def expand_module(x, dim, idx):\n",
        "    name = 'conv_' + idx + '_ex_' + '0'\n",
        "    net1 = tf.layers.conv2d(x, filters=dim, kernel_size=1, strides=1, padding=\"same\", \n",
        "                           activation=l_relu, name=name)\n",
        "    name = 'conv_' + idx + '_ex_' + '1'\n",
        "    net2 = tf.layers.conv2d(x, filters=dim, kernel_size=3, strides=1, padding=\"same\", \n",
        "                           activation=l_relu, name=name) \n",
        "    return tf.concat([net1, net2], 3)"
      ],
      "execution_count": 0,
      "outputs": []
    },
    {
      "metadata": {
        "id": "ZqDsscp1RxpW",
        "colab_type": "code",
        "colab": {}
      },
      "cell_type": "code",
      "source": [
        "# A Fire module is consisted of a squeeze layer and an expand layer.\n",
        "def fire_module(input_tensor, squeeze_dim, expand_dim, idx):\n",
        "    net = squeeze_module(input_tensor, squeeze_dim, idx)\n",
        "    net = expand_module(net, expand_dim, idx)\n",
        "    return net"
      ],
      "execution_count": 0,
      "outputs": []
    },
    {
      "metadata": {
        "id": "ioQ8faMDRxqm",
        "colab_type": "code",
        "colab": {}
      },
      "cell_type": "code",
      "source": [
        "# Begin to create network\n",
        "# Defines a SqueezeNet (ICLR 2017).\n",
        "net = tf.layers.conv2d(X, filters=32, kernel_size=1, strides=1, padding=\"same\", \n",
        "                       activation=l_relu, name='conv0') #384 \n",
        "\n",
        "net = tf.layers.max_pooling2d(net, pool_size=2, strides=2, padding=\"same\") #192\n",
        "\n",
        "net = fire_module(net, 32, 64, '0')\n",
        "net = fire_module(net, 32, 64, '1')\n",
        "net = fire_module(net, 32, 64, '2')\n",
        "\n",
        "net = tf.layers.max_pooling2d(net, pool_size=2, strides=2, padding=\"same\") #96\n",
        "\n",
        "\n",
        "net = fire_module(net, 64, 96, '3')\n",
        "net = fire_module(net, 64, 96, '4')\n",
        "net = fire_module(net, 64, 96, '5')\n",
        "\n",
        "\n",
        "net = tf.layers.max_pooling2d(net, pool_size=2, strides=2, padding=\"same\") #48\n",
        "\n",
        "net = fire_module(net, 128, 160, '6')\n",
        "net = fire_module(net, 128, 160, '7') \n",
        "net = fire_module(net, 128, 128, '8')\n",
        "\n",
        "\n",
        "net = tf.layers.max_pooling2d(net, pool_size=2, strides=2, padding=\"same\") #24\n",
        "\n",
        "net = fire_module(net, 256, 512, '9')\n",
        "net = fire_module(net, 256, 512, '10')\n",
        "net = fire_module(net, 256, 512, '11')\n",
        "\n",
        "net = tf.layers.max_pooling2d(net, pool_size=2, strides=2, padding=\"same\") #12\n",
        "\n",
        "net = fire_module(net, 512, 1024, '12')\n",
        "net = fire_module(net, 512, 1024, '13')\n",
        "net = fire_module(net, 512, 1024, '14')\n",
        "\n",
        "logits = tf.layers.conv2d(net, filters=MAX_BB_CNT*5*16, kernel_size=1, strides=1, padding=\"same\",\n",
        "                       activation=None, name='conv40') #12\n",
        "\n",
        "processed_logits = process_logits(logits)\n",
        "\n",
        "labels = Y_\n",
        "\n",
        "lambda_coords = tf.constant(5.0)\n",
        "lambda_noobj = tf.constant(0.5)\n",
        "\n",
        "yolo_loss = normalize_yolo_loss(processed_logits, lambda_coords, lambda_noobj)\n",
        "\n",
        "train_op = tf.train.AdamOptimizer(lr).minimize(yolo_loss)"
      ],
      "execution_count": 0,
      "outputs": []
    },
    {
      "metadata": {
        "id": "o7hgYkAdRxqz",
        "colab_type": "code",
        "colab": {}
      },
      "cell_type": "code",
      "source": [
        "start_training = True #using pretrained model as Kaggle server doesn't allow training time more than 6 hrs.\n",
        "if not start_training:\n",
        "    test_image_id = 33\n",
        "    saver = tf.train.Saver()\n",
        "    with tf.Session() as sess:\n",
        "        saver.restore(sess, \"./models/pre-trained-model/model.ckpt\")\n",
        "        result = sess.run([processed_logits], {X: np.reshape(test_images[test_image_id], [1, 384, 384, 3])})"
      ],
      "execution_count": 0,
      "outputs": []
    },
    {
      "metadata": {
        "id": "xdP6T77KRxq3",
        "colab_type": "code",
        "colab": {
          "base_uri": "https://localhost:8080/",
          "height": 1646
        },
        "outputId": "64016d54-02e0-41ff-d865-9b3b8d6cef91"
      },
      "cell_type": "code",
      "source": [
        "if(start_training):\n",
        "    # initialize\n",
        "    init = tf.global_variables_initializer()\n",
        "    sess = tf.Session()\n",
        "    sess.run(init)\n",
        "\n",
        "    batch_count = 0\n",
        "    display_count = 1\n",
        "    global mask_count\n",
        "\n",
        "    for i in range(33000):\n",
        "        batch_X, batch_Y = next_batch()\n",
        "        batch_count += 1\n",
        "        train_loss, _ = sess.run([yolo_loss, train_op], {X: batch_X, Y_: batch_Y, lr: 0.0001})\n",
        "\n",
        "        if(i % 100 == 0):\n",
        "            print(str(display_count) + \" training loss(\" + str(mask_count) + \"): \" + str(train_loss))\n",
        "            display_count +=1\n",
        "        mask_count = 0\n",
        "    print(\"Done!\")"
      ],
      "execution_count": 30,
      "outputs": [
        {
          "output_type": "stream",
          "text": [
            "1 training loss(728): 4184.6987\n",
            "2 training loss(528): 285.69403\n",
            "3 training loss(624): 255.91411\n",
            "4 training loss(519): 253.4097\n",
            "5 training loss(427): 192.52505\n",
            "6 training loss(1071): 257.66022\n",
            "7 training loss(645): 188.73\n",
            "8 training loss(367): 92.23583\n",
            "9 training loss(266): 54.105007\n",
            "10 training loss(532): 98.703186\n",
            "11 training loss(421): 70.18876\n",
            "12 training loss(578): 82.3231\n",
            "13 training loss(507): 78.55223\n",
            "14 training loss(1050): 117.77768\n",
            "15 training loss(766): 78.051796\n",
            "16 training loss(722): 73.488396\n",
            "17 training loss(591): 97.71488\n",
            "18 training loss(432): 74.91399\n",
            "19 training loss(648): 70.33399\n",
            "20 training loss(605): 62.98596\n",
            "21 training loss(559): 65.53613\n",
            "22 training loss(586): 81.61836\n",
            "23 training loss(816): 74.18084\n",
            "24 training loss(744): 75.9286\n",
            "25 training loss(687): 64.89304\n",
            "26 training loss(442): 50.46964\n",
            "27 training loss(484): 61.113655\n",
            "28 training loss(321): 34.202194\n",
            "29 training loss(785): 64.63001\n",
            "30 training loss(868): 51.704052\n",
            "31 training loss(420): 39.31837\n",
            "32 training loss(598): 57.635376\n",
            "33 training loss(611): 63.69477\n",
            "34 training loss(360): 40.074566\n",
            "35 training loss(646): 53.81809\n",
            "36 training loss(785): 40.53836\n",
            "37 training loss(779): 50.905525\n"
          ],
          "name": "stdout"
        },
        {
          "output_type": "error",
          "ename": "KeyboardInterrupt",
          "evalue": "ignored",
          "traceback": [
            "\u001b[0;31m---------------------------------------------------------------------------\u001b[0m",
            "\u001b[0;31mKeyboardInterrupt\u001b[0m                         Traceback (most recent call last)",
            "\u001b[0;32m<ipython-input-30-c5500de89485>\u001b[0m in \u001b[0;36m<module>\u001b[0;34m()\u001b[0m\n\u001b[1;32m     12\u001b[0m         \u001b[0mbatch_X\u001b[0m\u001b[0;34m,\u001b[0m \u001b[0mbatch_Y\u001b[0m \u001b[0;34m=\u001b[0m \u001b[0mnext_batch\u001b[0m\u001b[0;34m(\u001b[0m\u001b[0;34m)\u001b[0m\u001b[0;34m\u001b[0m\u001b[0m\n\u001b[1;32m     13\u001b[0m         \u001b[0mbatch_count\u001b[0m \u001b[0;34m+=\u001b[0m \u001b[0;36m1\u001b[0m\u001b[0;34m\u001b[0m\u001b[0m\n\u001b[0;32m---> 14\u001b[0;31m         \u001b[0mtrain_loss\u001b[0m\u001b[0;34m,\u001b[0m \u001b[0m_\u001b[0m \u001b[0;34m=\u001b[0m \u001b[0msess\u001b[0m\u001b[0;34m.\u001b[0m\u001b[0mrun\u001b[0m\u001b[0;34m(\u001b[0m\u001b[0;34m[\u001b[0m\u001b[0myolo_loss\u001b[0m\u001b[0;34m,\u001b[0m \u001b[0mtrain_op\u001b[0m\u001b[0;34m]\u001b[0m\u001b[0;34m,\u001b[0m \u001b[0;34m{\u001b[0m\u001b[0mX\u001b[0m\u001b[0;34m:\u001b[0m \u001b[0mbatch_X\u001b[0m\u001b[0;34m,\u001b[0m \u001b[0mY_\u001b[0m\u001b[0;34m:\u001b[0m \u001b[0mbatch_Y\u001b[0m\u001b[0;34m,\u001b[0m \u001b[0mlr\u001b[0m\u001b[0;34m:\u001b[0m \u001b[0;36m0.0001\u001b[0m\u001b[0;34m}\u001b[0m\u001b[0;34m)\u001b[0m\u001b[0;34m\u001b[0m\u001b[0m\n\u001b[0m\u001b[1;32m     15\u001b[0m \u001b[0;34m\u001b[0m\u001b[0m\n\u001b[1;32m     16\u001b[0m         \u001b[0;32mif\u001b[0m\u001b[0;34m(\u001b[0m\u001b[0mi\u001b[0m \u001b[0;34m%\u001b[0m \u001b[0;36m100\u001b[0m \u001b[0;34m==\u001b[0m \u001b[0;36m0\u001b[0m\u001b[0;34m)\u001b[0m\u001b[0;34m:\u001b[0m\u001b[0;34m\u001b[0m\u001b[0m\n",
            "\u001b[0;32m/usr/local/lib/python3.6/dist-packages/tensorflow/python/client/session.py\u001b[0m in \u001b[0;36mrun\u001b[0;34m(self, fetches, feed_dict, options, run_metadata)\u001b[0m\n\u001b[1;32m    903\u001b[0m     \u001b[0;32mtry\u001b[0m\u001b[0;34m:\u001b[0m\u001b[0;34m\u001b[0m\u001b[0m\n\u001b[1;32m    904\u001b[0m       result = self._run(None, fetches, feed_dict, options_ptr,\n\u001b[0;32m--> 905\u001b[0;31m                          run_metadata_ptr)\n\u001b[0m\u001b[1;32m    906\u001b[0m       \u001b[0;32mif\u001b[0m \u001b[0mrun_metadata\u001b[0m\u001b[0;34m:\u001b[0m\u001b[0;34m\u001b[0m\u001b[0m\n\u001b[1;32m    907\u001b[0m         \u001b[0mproto_data\u001b[0m \u001b[0;34m=\u001b[0m \u001b[0mtf_session\u001b[0m\u001b[0;34m.\u001b[0m\u001b[0mTF_GetBuffer\u001b[0m\u001b[0;34m(\u001b[0m\u001b[0mrun_metadata_ptr\u001b[0m\u001b[0;34m)\u001b[0m\u001b[0;34m\u001b[0m\u001b[0m\n",
            "\u001b[0;32m/usr/local/lib/python3.6/dist-packages/tensorflow/python/client/session.py\u001b[0m in \u001b[0;36m_run\u001b[0;34m(self, handle, fetches, feed_dict, options, run_metadata)\u001b[0m\n\u001b[1;32m   1138\u001b[0m     \u001b[0;32mif\u001b[0m \u001b[0mfinal_fetches\u001b[0m \u001b[0;32mor\u001b[0m \u001b[0mfinal_targets\u001b[0m \u001b[0;32mor\u001b[0m \u001b[0;34m(\u001b[0m\u001b[0mhandle\u001b[0m \u001b[0;32mand\u001b[0m \u001b[0mfeed_dict_tensor\u001b[0m\u001b[0;34m)\u001b[0m\u001b[0;34m:\u001b[0m\u001b[0;34m\u001b[0m\u001b[0m\n\u001b[1;32m   1139\u001b[0m       results = self._do_run(handle, final_targets, final_fetches,\n\u001b[0;32m-> 1140\u001b[0;31m                              feed_dict_tensor, options, run_metadata)\n\u001b[0m\u001b[1;32m   1141\u001b[0m     \u001b[0;32melse\u001b[0m\u001b[0;34m:\u001b[0m\u001b[0;34m\u001b[0m\u001b[0m\n\u001b[1;32m   1142\u001b[0m       \u001b[0mresults\u001b[0m \u001b[0;34m=\u001b[0m \u001b[0;34m[\u001b[0m\u001b[0;34m]\u001b[0m\u001b[0;34m\u001b[0m\u001b[0m\n",
            "\u001b[0;32m/usr/local/lib/python3.6/dist-packages/tensorflow/python/client/session.py\u001b[0m in \u001b[0;36m_do_run\u001b[0;34m(self, handle, target_list, fetch_list, feed_dict, options, run_metadata)\u001b[0m\n\u001b[1;32m   1319\u001b[0m     \u001b[0;32mif\u001b[0m \u001b[0mhandle\u001b[0m \u001b[0;32mis\u001b[0m \u001b[0;32mNone\u001b[0m\u001b[0;34m:\u001b[0m\u001b[0;34m\u001b[0m\u001b[0m\n\u001b[1;32m   1320\u001b[0m       return self._do_call(_run_fn, feeds, fetches, targets, options,\n\u001b[0;32m-> 1321\u001b[0;31m                            run_metadata)\n\u001b[0m\u001b[1;32m   1322\u001b[0m     \u001b[0;32melse\u001b[0m\u001b[0;34m:\u001b[0m\u001b[0;34m\u001b[0m\u001b[0m\n\u001b[1;32m   1323\u001b[0m       \u001b[0;32mreturn\u001b[0m \u001b[0mself\u001b[0m\u001b[0;34m.\u001b[0m\u001b[0m_do_call\u001b[0m\u001b[0;34m(\u001b[0m\u001b[0m_prun_fn\u001b[0m\u001b[0;34m,\u001b[0m \u001b[0mhandle\u001b[0m\u001b[0;34m,\u001b[0m \u001b[0mfeeds\u001b[0m\u001b[0;34m,\u001b[0m \u001b[0mfetches\u001b[0m\u001b[0;34m)\u001b[0m\u001b[0;34m\u001b[0m\u001b[0m\n",
            "\u001b[0;32m/usr/local/lib/python3.6/dist-packages/tensorflow/python/client/session.py\u001b[0m in \u001b[0;36m_do_call\u001b[0;34m(self, fn, *args)\u001b[0m\n\u001b[1;32m   1325\u001b[0m   \u001b[0;32mdef\u001b[0m \u001b[0m_do_call\u001b[0m\u001b[0;34m(\u001b[0m\u001b[0mself\u001b[0m\u001b[0;34m,\u001b[0m \u001b[0mfn\u001b[0m\u001b[0;34m,\u001b[0m \u001b[0;34m*\u001b[0m\u001b[0margs\u001b[0m\u001b[0;34m)\u001b[0m\u001b[0;34m:\u001b[0m\u001b[0;34m\u001b[0m\u001b[0m\n\u001b[1;32m   1326\u001b[0m     \u001b[0;32mtry\u001b[0m\u001b[0;34m:\u001b[0m\u001b[0;34m\u001b[0m\u001b[0m\n\u001b[0;32m-> 1327\u001b[0;31m       \u001b[0;32mreturn\u001b[0m \u001b[0mfn\u001b[0m\u001b[0;34m(\u001b[0m\u001b[0;34m*\u001b[0m\u001b[0margs\u001b[0m\u001b[0;34m)\u001b[0m\u001b[0;34m\u001b[0m\u001b[0m\n\u001b[0m\u001b[1;32m   1328\u001b[0m     \u001b[0;32mexcept\u001b[0m \u001b[0merrors\u001b[0m\u001b[0;34m.\u001b[0m\u001b[0mOpError\u001b[0m \u001b[0;32mas\u001b[0m \u001b[0me\u001b[0m\u001b[0;34m:\u001b[0m\u001b[0;34m\u001b[0m\u001b[0m\n\u001b[1;32m   1329\u001b[0m       \u001b[0mmessage\u001b[0m \u001b[0;34m=\u001b[0m \u001b[0mcompat\u001b[0m\u001b[0;34m.\u001b[0m\u001b[0mas_text\u001b[0m\u001b[0;34m(\u001b[0m\u001b[0me\u001b[0m\u001b[0;34m.\u001b[0m\u001b[0mmessage\u001b[0m\u001b[0;34m)\u001b[0m\u001b[0;34m\u001b[0m\u001b[0m\n",
            "\u001b[0;32m/usr/local/lib/python3.6/dist-packages/tensorflow/python/client/session.py\u001b[0m in \u001b[0;36m_run_fn\u001b[0;34m(feed_dict, fetch_list, target_list, options, run_metadata)\u001b[0m\n\u001b[1;32m   1310\u001b[0m       \u001b[0mself\u001b[0m\u001b[0;34m.\u001b[0m\u001b[0m_extend_graph\u001b[0m\u001b[0;34m(\u001b[0m\u001b[0;34m)\u001b[0m\u001b[0;34m\u001b[0m\u001b[0m\n\u001b[1;32m   1311\u001b[0m       return self._call_tf_sessionrun(\n\u001b[0;32m-> 1312\u001b[0;31m           options, feed_dict, fetch_list, target_list, run_metadata)\n\u001b[0m\u001b[1;32m   1313\u001b[0m \u001b[0;34m\u001b[0m\u001b[0m\n\u001b[1;32m   1314\u001b[0m     \u001b[0;32mdef\u001b[0m \u001b[0m_prun_fn\u001b[0m\u001b[0;34m(\u001b[0m\u001b[0mhandle\u001b[0m\u001b[0;34m,\u001b[0m \u001b[0mfeed_dict\u001b[0m\u001b[0;34m,\u001b[0m \u001b[0mfetch_list\u001b[0m\u001b[0;34m)\u001b[0m\u001b[0;34m:\u001b[0m\u001b[0;34m\u001b[0m\u001b[0m\n",
            "\u001b[0;32m/usr/local/lib/python3.6/dist-packages/tensorflow/python/client/session.py\u001b[0m in \u001b[0;36m_call_tf_sessionrun\u001b[0;34m(self, options, feed_dict, fetch_list, target_list, run_metadata)\u001b[0m\n\u001b[1;32m   1418\u001b[0m         return tf_session.TF_Run(\n\u001b[1;32m   1419\u001b[0m             \u001b[0mself\u001b[0m\u001b[0;34m.\u001b[0m\u001b[0m_session\u001b[0m\u001b[0;34m,\u001b[0m \u001b[0moptions\u001b[0m\u001b[0;34m,\u001b[0m \u001b[0mfeed_dict\u001b[0m\u001b[0;34m,\u001b[0m \u001b[0mfetch_list\u001b[0m\u001b[0;34m,\u001b[0m \u001b[0mtarget_list\u001b[0m\u001b[0;34m,\u001b[0m\u001b[0;34m\u001b[0m\u001b[0m\n\u001b[0;32m-> 1420\u001b[0;31m             status, run_metadata)\n\u001b[0m\u001b[1;32m   1421\u001b[0m \u001b[0;34m\u001b[0m\u001b[0m\n\u001b[1;32m   1422\u001b[0m   \u001b[0;32mdef\u001b[0m \u001b[0m_call_tf_sessionprun\u001b[0m\u001b[0;34m(\u001b[0m\u001b[0mself\u001b[0m\u001b[0;34m,\u001b[0m \u001b[0mhandle\u001b[0m\u001b[0;34m,\u001b[0m \u001b[0mfeed_dict\u001b[0m\u001b[0;34m,\u001b[0m \u001b[0mfetch_list\u001b[0m\u001b[0;34m)\u001b[0m\u001b[0;34m:\u001b[0m\u001b[0;34m\u001b[0m\u001b[0m\n",
            "\u001b[0;31mKeyboardInterrupt\u001b[0m: "
          ]
        }
      ]
    },
    {
      "metadata": {
        "id": "epRQV67kRxrM",
        "colab_type": "code",
        "colab": {}
      },
      "cell_type": "code",
      "source": [
        "if(start_training):\n",
        "    test_image_id = 14\n",
        "    result = sess.run([processed_logits], {X: np.reshape(test_images[test_image_id], [1, 384, 384, 3])})"
      ],
      "execution_count": 0,
      "outputs": []
    },
    {
      "metadata": {
        "id": "wPpa5L23RxrV",
        "colab_type": "code",
        "colab": {
          "base_uri": "https://localhost:8080/",
          "height": 35
        },
        "outputId": "e33dcf81-d98e-4618-d65c-33656620a91f"
      },
      "cell_type": "code",
      "source": [
        "boxes = result[0]\n",
        "print(boxes.shape)\n",
        "boxes = np.reshape(boxes, newshape=[GRID_DIM, GRID_DIM, MAX_BB_CNT, 5])\n",
        "bbs = []\n",
        "\n",
        "for i in range(GRID_DIM):\n",
        "    for j in range(GRID_DIM):\n",
        "        for b in range(MAX_BB_CNT):\n",
        "            if(boxes[i][j][b][4]> 0.1):\n",
        "                grid_center_x = ((j+0)*GRID_PIX + GRID_PIX/2)\n",
        "                grid_center_y = ((i+0)*GRID_PIX + GRID_PIX/2)\n",
        "                \n",
        "                new_box_center_x = boxes[i][j][b][0] * IMG_WIDTH + grid_center_x\n",
        "                new_box_center_y = boxes[i][j][b][1] * IMG_HEIGHT + grid_center_y\n",
        "\n",
        "                new_w = np.square(boxes[i][j][b][2]) * IMG_WIDTH\n",
        "                new_h = np.square(boxes[i][j][b][3]) * IMG_HEIGHT\n",
        "                \n",
        "                x1 = new_box_center_x - new_w/2\n",
        "                y1 = new_box_center_y - new_h/2\n",
        "\n",
        "                x2 = new_box_center_x + new_w/2\n",
        "                y2 = new_box_center_y + new_h/2\n",
        "\n",
        "                bbs.append((math.floor(x1), math.floor(y1), math.ceil(x2), math.ceil(y2)))"
      ],
      "execution_count": 32,
      "outputs": [
        {
          "output_type": "stream",
          "text": [
            "(1, 12, 12, 2, 5)\n"
          ],
          "name": "stdout"
        }
      ]
    },
    {
      "metadata": {
        "id": "TO-kSmwgRxrZ",
        "colab_type": "code",
        "colab": {
          "base_uri": "https://localhost:8080/",
          "height": 369
        },
        "outputId": "67d0112b-b00e-458a-cec9-6ea15b2d63d6"
      },
      "cell_type": "code",
      "source": [
        "img = test_images[test_image_id]\n",
        "f, axs = plt.subplots(1,2)\n",
        "axs[0].imshow(img)\n",
        "\n",
        "imshow(img)\n",
        "for i, b in enumerate(bbs):\n",
        "    cv2.rectangle(img,(b[0], b[1]),(b[2], b[3]),(0,255,0),2)\n",
        "\n",
        "axs[1].imshow(img)"
      ],
      "execution_count": 33,
      "outputs": [
        {
          "output_type": "stream",
          "text": [
            "/usr/local/lib/python3.6/dist-packages/skimage/io/_plugins/matplotlib_plugin.py:51: FutureWarning: Conversion of the second argument of issubdtype from `float` to `np.floating` is deprecated. In future, it will be treated as `np.float64 == np.dtype(float).type`.\n",
            "  out_of_range_float = (np.issubdtype(image.dtype, np.float) and\n"
          ],
          "name": "stderr"
        },
        {
          "output_type": "execute_result",
          "data": {
            "text/plain": [
              "<matplotlib.image.AxesImage at 0x7f477cd06780>"
            ]
          },
          "metadata": {
            "tags": []
          },
          "execution_count": 33
        },
        {
          "output_type": "display_data",
          "data": {
            "image/png": "[encoded data removed]",
            "text/plain": [
              "<matplotlib.figure.Figure at 0x7f477cdb1710>"
            ]
          },
          "metadata": {
            "tags": []
          }
        }
      ]
    },
    {
      "metadata": {
        "id": "yIJqVXcURxrq",
        "colab_type": "code",
        "colab": {}
      },
      "cell_type": "code",
      "source": [
        ""
      ],
      "execution_count": 0,
      "outputs": []
    },
    {
      "metadata": {
        "id": "ei-AACR8Rxru",
        "colab_type": "code",
        "colab": {}
      },
      "cell_type": "code",
      "source": [
        ""
      ],
      "execution_count": 0,
      "outputs": []
    },
    {
      "metadata": {
        "id": "HsHMImMiRxr1",
        "colab_type": "code",
        "colab": {}
      },
      "cell_type": "code",
      "source": [
        ""
      ],
      "execution_count": 0,
      "outputs": []
    },
    {
      "metadata": {
        "id": "C0NExgT1Rxr7",
        "colab_type": "code",
        "colab": {}
      },
      "cell_type": "code",
      "source": [
        ""
      ],
      "execution_count": 0,
      "outputs": []
    }
  ]
}