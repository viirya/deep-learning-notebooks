{
  "nbformat": 4,
  "nbformat_minor": 0,
  "metadata": {
    "colab": {
      "name": "script.ipynb",
      "version": "0.3.2",
      "provenance": [],
      "collapsed_sections": []
    },
    "kernelspec": {
      "display_name": "Python 3",
      "language": "python",
      "name": "python3"
    },
    "accelerator": "GPU"
  },
  "cells": [
    {
      "cell_type": "markdown",
      "metadata": {
        "id": "view-in-github",
        "colab_type": "text"
      },
      "source": [
        "[View in Colaboratory](https://colab.research.google.com/github/viirya/deep-learning-notebooks/blob/master/yolo.ipynb)"
      ]
    },
    {
      "metadata": {
        "id": "sizVlPNFRxkA",
        "colab_type": "text"
      },
      "cell_type": "markdown",
      "source": [
        "# Intro\n",
        "\n",
        "This piece of work is inspired by a [youtube video lecture](https://www.youtube.com/watch?v=vaL1I2BD_xY) by Martin Gorner, a Google developer \n",
        "who put forth this idea of combining YOLO grid with SqueezeNet (instead of DarkNet - original stack for [YOLO](https://arxiv.org/pdf/1506.02640.pdf)). Original paper states - \" Our model struggles with small objects that appear in groups, such as flocks of birds.\", but it seems that YOLO can be useful for swarm type things as well."
      ]
    },
    {
      "metadata": {
        "id": "5MfkMSLRSnyt",
        "colab_type": "code",
        "colab": {
          "resources": {
            "http://localhost:8080/nbextensions/google.colab/files.js": {
              "data": "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",
              "ok": true,
              "headers": [
                [
                  "content-type",
                  "application/javascript"
                ]
              ],
              "status": 200,
              "status_text": "OK"
            }
          },
          "base_uri": "https://localhost:8080/",
          "height": 87
        },
        "outputId": "e4609ee1-a526-49a2-a634-a4438f2526b8"
      },
      "cell_type": "code",
      "source": [
        "# Upload training and testing dataset to Google Colaboratory.\n",
        "# Comment these code if not running on Google Colaboratory.\n",
        "from google.colab import files\n",
        "\n",
        "uploaded = files.upload()\n",
        "\n",
        "for fn in uploaded.keys():\n",
        "  print('User uploaded file \"{name}\" with length {length} bytes'.format(name=fn, length=len(uploaded[fn])))"
      ],
      "execution_count": 3,
      "outputs": [
        {
          "output_type": "display_data",
          "data": {
            "text/html": [
              "\n",
              "     <input type=\"file\" id=\"files-c5b4e64a-7ebc-4814-814f-bfbf502018ed\" name=\"files[]\" multiple disabled />\n",
              "     <output id=\"result-c5b4e64a-7ebc-4814-814f-bfbf502018ed\">\n",
              "      Upload widget is only available when the cell has been executed in the\n",
              "      current browser session. Please rerun this cell to enable.\n",
              "      </output>\n",
              "      <script src=\"/nbextensions/google.colab/files.js\"></script> "
            ],
            "text/plain": [
              "<IPython.core.display.HTML object>"
            ]
          },
          "metadata": {
            "tags": []
          }
        },
        {
          "output_type": "stream",
          "text": [
            "Saving bboxes.csv to bboxes.csv\n",
            "User uploaded file \"bboxes.csv\" with length 13463850 bytes\n"
          ],
          "name": "stdout"
        }
      ]
    },
    {
      "metadata": {
        "id": "plKY8lRJTQ7m",
        "colab_type": "code",
        "colab": {}
      },
      "cell_type": "code",
      "source": [
        "# Prepare training and testing dataset in proper path.\n",
        "# Unzip archive files.\n",
        "# !mkdir -p dataset/data-science-bowl-2018-2/stage1_train\n",
        "# !mkdir -p dataset/data-science-bowl-2018-2/stage1_test\n",
        "# !cd dataset/data-science-bowl-2018-2/stage1_test && ls -al\n",
        "# !mv stage1_test.zip dataset/data-science-bowl-2018-2/stage1_test/.\n",
        "# !cd dataset/data-science-bowl-2018-2/stage1_test && ls -al && unzip stage1_test.zip && mv stage1_test.zip ../../../.\n",
        "# !mv bboxes.csv dataset/data-science-bowl-2018-2/.\n"
      ],
      "execution_count": 0,
      "outputs": []
    },
    {
      "metadata": {
        "id": "teAJm1cyRxkG",
        "colab_type": "code",
        "colab": {
          "base_uri": "https://localhost:8080/",
          "height": 125
        },
        "outputId": "6ae60525-285f-44d7-bf86-2262b6db63df"
      },
      "cell_type": "code",
      "source": [
        "!pip3 install tqdm\n",
        "import os\n",
        "import sys\n",
        "import numpy as np\n",
        "import tensorflow as tf\n",
        "import random\n",
        "import math\n",
        "import warnings\n",
        "import pandas as pd\n",
        "import cv2\n",
        "import matplotlib.pyplot as plt\n",
        "import matplotlib.cm as cm\n",
        "import matplotlib.ticker as ticker\n",
        "\n",
        "from tqdm import tqdm\n",
        "from itertools import chain\n",
        "from skimage.io import imread, imshow, imread_collection, concatenate_images\n",
        "from skimage.transform import resize\n",
        "from skimage.morphology import label\n",
        "\n",
        "warnings.filterwarnings('ignore', category=UserWarning, module='skimage')\n",
        "seed = 19\n",
        "random.seed = seed\n",
        "np.random.seed = seed"
      ],
      "execution_count": 7,
      "outputs": [
        {
          "output_type": "stream",
          "text": [
            "Collecting tqdm\n",
            "\u001b[?25l  Downloading https://files.pythonhosted.org/packages/d8/ca/6524dfba7a0e850d3fda223693779035ddc8bf5c242acd9ee4eb9e52711a/tqdm-4.23.3-py2.py3-none-any.whl (42kB)\n",
            "\u001b[K    100% |████████████████████████████████| 51kB 2.1MB/s \n",
            "\u001b[?25hInstalling collected packages: tqdm\n",
            "Successfully installed tqdm-4.23.3\n"
          ],
          "name": "stdout"
        }
      ]
    },
    {
      "metadata": {
        "id": "yqgIpdeYRxkb",
        "colab_type": "code",
        "colab": {}
      },
      "cell_type": "code",
      "source": [
        "#img = imread(\"input/0114f484a16c152baa2d82fdd43740880a762c93f436c8988ac461c5c9dbe7d5/images/0114f484a16c152baa2d82fdd43740880a762c93f436c8988ac461c5c9dbe7d5.png\")\n",
        "#imshow(img)"
      ],
      "execution_count": 0,
      "outputs": []
    },
    {
      "metadata": {
        "id": "P9iKtQLxRxkw",
        "colab_type": "code",
        "colab": {}
      },
      "cell_type": "code",
      "source": [
        "IMG_WIDTH = 384\n",
        "IMG_HEIGHT = 384\n",
        "IMG_CHANNELS = 3\n",
        "\n",
        "TRAIN_PATH = './dataset/data-science-bowl-2018-2/stage1_train'\n",
        "TEST_PATH = './dataset/data-science-bowl-2018-2/stage1_test'"
      ],
      "execution_count": 0,
      "outputs": []
    },
    {
      "metadata": {
        "id": "njfkv8anRxk9",
        "colab_type": "code",
        "colab": {}
      },
      "cell_type": "code",
      "source": [
        "train_ids = next(os.walk(TRAIN_PATH))[1]\n",
        "test_ids = next(os.walk(TEST_PATH))[1]\n",
        "\n",
        "train_images = np.zeros((len(train_ids), IMG_HEIGHT, IMG_WIDTH, IMG_CHANNELS), dtype=np.uint8)\n",
        "test_images = np.zeros((len(test_ids), IMG_HEIGHT, IMG_WIDTH, IMG_CHANNELS), dtype=np.uint8)"
      ],
      "execution_count": 0,
      "outputs": []
    },
    {
      "metadata": {
        "id": "3-g146TIRxlJ",
        "colab_type": "code",
        "colab": {
          "base_uri": "https://localhost:8080/",
          "height": 105
        },
        "outputId": "67cb3730-cbd2-4272-ad7f-24c6a24c72a4"
      },
      "cell_type": "code",
      "source": [
        "# Resize train images.\n",
        "print('resize train images... ')\n",
        "sys.stdout.flush()\n",
        "\n",
        "for n, id_ in tqdm(enumerate(train_ids), total=len(train_ids)):\n",
        "    path = TRAIN_PATH + \"/\" + id_\n",
        "    img = imread(path + '/images/' + id_ + '.png')[:,:,:IMG_CHANNELS]\n",
        "    img = resize(img, (IMG_HEIGHT, IMG_WIDTH), mode='constant', preserve_range=True)\n",
        "    \n",
        "    train_images[n] = img\n",
        "    \n",
        "# Get and resize test images\n",
        "sizes_test = []\n",
        "print('resize test images ... ')\n",
        "sys.stdout.flush()\n",
        "\n",
        "for n, id_ in tqdm(enumerate(test_ids), total=len(test_ids)):\n",
        "    path = TEST_PATH + \"/\" + id_\n",
        "    img = imread(path + '/images/' + id_ + '.png')[:,:,:IMG_CHANNELS]\n",
        "    sizes_test.append([img.shape[0], img.shape[1]])\n",
        "    img = resize(img, (IMG_HEIGHT, IMG_WIDTH), mode='constant', preserve_range=True)\n",
        "    test_images[n] = img\n",
        "\n",
        "print('Done!')"
      ],
      "execution_count": 10,
      "outputs": [
        {
          "output_type": "stream",
          "text": [
            "resize train images... \n"
          ],
          "name": "stdout"
        },
        {
          "output_type": "stream",
          "text": [
            "100%|██████████| 670/670 [00:20<00:00, 33.42it/s]"
          ],
          "name": "stderr"
        },
        {
          "output_type": "stream",
          "text": [
            "resize test images ... \n"
          ],
          "name": "stdout"
        },
        {
          "output_type": "stream",
          "text": [
            "\n",
            "100%|██████████| 65/65 [00:01<00:00, 32.67it/s]"
          ],
          "name": "stderr"
        },
        {
          "output_type": "stream",
          "text": [
            "Done!\n"
          ],
          "name": "stdout"
        },
        {
          "output_type": "stream",
          "text": [
            "\n"
          ],
          "name": "stderr"
        }
      ]
    },
    {
      "metadata": {
        "id": "6w2ERtDGRxlX",
        "colab_type": "code",
        "colab": {}
      },
      "cell_type": "code",
      "source": [
        "# Given mask image, training image id, mask id and rotation id (0 to 3),\n",
        "# we generate ground truth labels.\n",
        "def store_bounding_boxes(img, train_id, mask_id, rotby_90):\n",
        "    # Uses open cv to find object in mask images.\n",
        "    ret, thresh = cv2.threshold(img, 127, 255, 0)\n",
        "    contours = cv2.findContours(thresh.astype(np.uint8), 1, 2)\n",
        "    cnt = contours[0]\n",
        "        \n",
        "    x, y, w, h = cv2.boundingRect(cnt)    \n",
        "    \n",
        "    x = x * (IMG_WIDTH/img.shape[1])\n",
        "    w = w * (IMG_WIDTH/img.shape[1])\n",
        "    y = y * (IMG_WIDTH/img.shape[0])\n",
        "    h = h * (IMG_WIDTH/img.shape[0])\n",
        "    \n",
        "    if(x > IMG_WIDTH-1):\n",
        "        x = IMG_WIDTH-1\n",
        "    if(y > IMG_HEIGHT-1):\n",
        "        y = IMG_HEIGHT-1\n",
        "    if(x+w > IMG_WIDTH-1):\n",
        "        w = IMG_WIDTH-1 - x\n",
        "    if(y+h > IMG_HEIGHT-1):\n",
        "        h = IMG_HEIGHT-1 - y\n",
        "        \n",
        "    bbdict = { \"train_id\": train_id, \"mask_id\": mask_id, \"rotby_90\": rotby_90, \"x\": x, \"y\": y, \"w\": w, \"h\": h}\n",
        "    return bbdict"
      ],
      "execution_count": 0,
      "outputs": []
    },
    {
      "metadata": {
        "id": "0o_N-NuORxlh",
        "colab_type": "code",
        "colab": {
          "base_uri": "https://localhost:8080/",
          "height": 1242
        },
        "outputId": "26e42310-d461-44a2-89c6-1a90f7e90da2"
      },
      "cell_type": "code",
      "source": [
        "img = imread(\"./dataset/data-science-bowl-2018-2/stage1_train/00071198d059ba7f5914a526d124d28e6d010c92466da21d4a04cd5413362552/images/00071198d059ba7f5914a526d124d28e6d010c92466da21d4a04cd5413362552.png\")\n",
        "plt.figure()\n",
        "imshow(img)\n",
        "\n",
        "maskImg = imread(\"./dataset/data-science-bowl-2018-2/stage1_train/00071198d059ba7f5914a526d124d28e6d010c92466da21d4a04cd5413362552/masks/07a9bf1d7594af2763c86e93f05d22c4d5181353c6d3ab30a345b908ffe5aadc.png\")\n",
        "plt.figure()\n",
        "imshow(maskImg)\n",
        "\n",
        "maskImg = imread(\"./dataset/data-science-bowl-2018-2/stage1_train/00071198d059ba7f5914a526d124d28e6d010c92466da21d4a04cd5413362552/masks/0e548d0af63ab451616f082eb56bde13eb71f73dfda92a03fbe88ad42ebb4881.png\")\n",
        "plt.figure()\n",
        "imshow(maskImg)\n"
      ],
      "execution_count": 12,
      "outputs": [
        {
          "output_type": "stream",
          "text": [
            "/usr/local/lib/python3.6/dist-packages/skimage/io/_plugins/matplotlib_plugin.py:51: FutureWarning: Conversion of the second argument of issubdtype from `float` to `np.floating` is deprecated. In future, it will be treated as `np.float64 == np.dtype(float).type`.\n",
            "  out_of_range_float = (np.issubdtype(image.dtype, np.float) and\n"
          ],
          "name": "stderr"
        },
        {
          "output_type": "execute_result",
          "data": {
            "text/plain": [
              "<matplotlib.image.AxesImage at 0x7f47aed0bf60>"
            ]
          },
          "metadata": {
            "tags": []
          },
          "execution_count": 12
        },
        {
          "output_type": "display_data",
          "data": {
            "image/png": "[encoded data removed]",
            "text/plain": [
              "<matplotlib.figure.Figure at 0x7f47b4a081d0>"
            ]
          },
          "metadata": {
            "tags": []
          }
        },
        {
          "output_type": "display_data",
          "data": {
            "image/png": "[encoded data removed]",
            "text/plain": [
              "<matplotlib.figure.Figure at 0x7f47aee88358>"
            ]
          },
          "metadata": {
            "tags": []
          }
        },
        {
          "output_type": "display_data",
          "data": {
            "image/png": "[encoded data removed]",
            "text/plain": [
              "<matplotlib.figure.Figure at 0x7f47aed4c828>"
            ]
          },
          "metadata": {
            "tags": []
          }
        }
      ]
    },
    {
      "metadata": {
        "id": "9VsNqTqgRxlz",
        "colab_type": "code",
        "colab": {}
      },
      "cell_type": "code",
      "source": [
        "# Generates boundinx box (labels) ground truth.\n",
        "# The labels are based on mask files included in training dataset.\n",
        "# Mask files are images showing objects in training images.\n",
        "\n",
        "path_bboxes_csv = \"./dataset/data-science-bowl-2018-2/bboxes.csv\"\n",
        "if not os.path.isfile(path_bboxes_csv):\n",
        "    bboxes = pd.DataFrame(columns=[\"train_id\", \"mask_id\", \"rotby_90\", \"x\", \"y\", \"w\", \"h\"])\n",
        "    row_count = 1\n",
        "    for n, id_ in tqdm(enumerate(train_ids), total=len(train_ids)):\n",
        "        path = TRAIN_PATH + \"/\" + id_\n",
        "        for mask_id, mask_file in enumerate(next(os.walk(path + '/masks/'))[2]):\n",
        "            mask_ = imread(path + '/masks/' + mask_file)\n",
        "            # To augment training dataset, we rotate mask data.\n",
        "            for r in range(4):\n",
        "                bboxes.loc[row_count] = store_bounding_boxes(np.rot90(mask_, r), id_, mask_id, r)\n",
        "                row_count += 1\n",
        "    bboxes.to_csv(path_bboxes_csv, index=False)\n",
        "else:\n",
        "    bboxes = pd.read_csv(path_bboxes_csv)"
      ],
      "execution_count": 0,
      "outputs": []
    },
    {
      "metadata": {
        "id": "TyWBmuw2RxmL",
        "colab_type": "code",
        "colab": {}
      },
      "cell_type": "code",
      "source": [
        "# Define grid cell size.\n",
        "GRID_DIM = 12\n",
        "# The width/height of a grid in pixel.\n",
        "GRID_PIX = IMG_WIDTH//GRID_DIM\n",
        "BATCH_SIZE = 14"
      ],
      "execution_count": 0,
      "outputs": []
    },
    {
      "metadata": {
        "id": "ZsFW-ZaDRxme",
        "colab_type": "code",
        "colab": {
          "base_uri": "https://localhost:8080/",
          "height": 35
        },
        "outputId": "83848285-f15a-43ef-c886-3395cab6ffe2"
      },
      "cell_type": "code",
      "source": [
        "train_ids_df = pd.DataFrame(columns=[\"idx\", \"id_\"])\n",
        "cnt = 0\n",
        "for n, id_ in tqdm(enumerate(train_ids), total=len(train_ids)):\n",
        "    train_ids_df.loc[cnt] = { \"idx\": n, \"id_\": id_}\n",
        "    cnt += 1\n",
        "\n",
        "train_ids_df = train_ids_df.set_index(['idx'])"
      ],
      "execution_count": 15,
      "outputs": [
        {
          "output_type": "stream",
          "text": [
            "100%|██████████| 670/670 [00:01<00:00, 370.26it/s]\n"
          ],
          "name": "stderr"
        }
      ]
    },
    {
      "metadata": {
        "id": "OrWOzpdfRxmx",
        "colab_type": "code",
        "colab": {}
      },
      "cell_type": "code",
      "source": [
        "# Grid-based coordinates of box (top-left corner).\n",
        "bboxes['grid_row'] = bboxes['y']//GRID_PIX\n",
        "bboxes['grid_column'] = bboxes['x']//GRID_PIX\n",
        "\n",
        "# The center coordinates of the grid this box is located at.\n",
        "bboxes['grid_center_x'] = bboxes['grid_column'] * GRID_PIX + GRID_PIX/2\n",
        "bboxes['grid_center_y'] = bboxes['grid_row'] * GRID_PIX + GRID_PIX/2\n",
        "\n",
        "# The center coordinates of box center.\n",
        "bboxes['box_center_x'] = bboxes.x + bboxes['w']/2\n",
        "bboxes['box_center_y'] = bboxes.y + bboxes['h']/2\n",
        "\n",
        "bboxes['new_x'] = (bboxes.box_center_x - bboxes.grid_center_x)/(IMG_WIDTH)\n",
        "bboxes['new_y'] = (bboxes.box_center_y - bboxes.grid_center_y)/(IMG_HEIGHT)\n",
        "\n",
        "bboxes['new_w'] = np.sqrt(bboxes.w/(IMG_WIDTH))\n",
        "bboxes['new_h'] = np.sqrt(bboxes.h/(IMG_WIDTH))\n",
        "\n",
        "# Here there is an object we know. So set object confidence to 1.\n",
        "bboxes['confidence'] = 1\n",
        "\n",
        "bboxes['box_area'] = bboxes.new_w*bboxes.new_h"
      ],
      "execution_count": 0,
      "outputs": []
    },
    {
      "metadata": {
        "id": "Cf_V68JQRxm8",
        "colab_type": "code",
        "colab": {}
      },
      "cell_type": "code",
      "source": [
        "mask_count = 1\n",
        "#Set maximum bounding boxes allowed per grid cell\n",
        "MAX_BB_CNT = 2"
      ],
      "execution_count": 0,
      "outputs": []
    },
    {
      "metadata": {
        "id": "CzWX2RayRxnH",
        "colab_type": "code",
        "colab": {}
      },
      "cell_type": "code",
      "source": [
        "# Returns the label for a given training image id and rotation id.\n",
        "def get_grid_info(tr_id, rotby_90):\n",
        "    df = bboxes.loc[(bboxes.train_id == tr_id) & (bboxes.rotby_90 == rotby_90), 'grid_row':'box_area']\n",
        "    df.drop(['grid_center_x', 'grid_center_y','box_center_x', 'box_center_y',], axis = 1, inplace=True)\n",
        "    df = df.sort_values(['grid_column', 'grid_row', 'box_area'], ascending=False)\n",
        "    #print(len(df))\n",
        "    global mask_count\n",
        "    mask_count += len(df)\n",
        "    # Initialize the label ground truth.\n",
        "    label_info = np.zeros(shape=(GRID_DIM, GRID_DIM, MAX_BB_CNT, 5),  dtype=np.float32) + 0.000001\n",
        "    \n",
        "    for ind, row in df.iterrows():\n",
        "        i = int(row[0])\n",
        "        j = int(row[1])\n",
        "        for b in range(MAX_BB_CNT):\n",
        "            if(label_info[i, j, b][4] != 1.0):\n",
        "                label_info[i, j, b] = np.array(row[2:7])\n",
        "                break\n",
        "    return label_info"
      ],
      "execution_count": 0,
      "outputs": []
    },
    {
      "metadata": {
        "id": "bqGE2x5pRxnQ",
        "colab_type": "code",
        "colab": {}
      },
      "cell_type": "code",
      "source": [
        "# Returns label ground truth for input data.\n",
        "# The dimension is (batch size, grid width, grid height, predicted boxes per cell, variables per box).\n",
        "def get_labels(counts, rotations):\n",
        "    grid_info = np.zeros(shape=(BATCH_SIZE, GRID_DIM, GRID_DIM, MAX_BB_CNT, 5), dtype=np.float32)\n",
        "    for i, c in enumerate(counts):\n",
        "        tr_id = train_ids_df.loc[c, 'id_']\n",
        "        grid_info[i] = get_grid_info(tr_id, rotations[i])\n",
        "    grid_info = np.reshape(grid_info, newshape=[BATCH_SIZE, GRID_DIM, GRID_DIM, MAX_BB_CNT, 5])\n",
        "    return grid_info"
      ],
      "execution_count": 0,
      "outputs": []
    },
    {
      "metadata": {
        "id": "moDYHrAkRxnb",
        "colab_type": "code",
        "colab": {}
      },
      "cell_type": "code",
      "source": [
        "def get_images(counts, rotations):\n",
        "    images = np.zeros(shape=(BATCH_SIZE, IMG_WIDTH, IMG_HEIGHT, IMG_CHANNELS), dtype=np.uint8)\n",
        "    for i, c in enumerate(counts):\n",
        "        images[i] = np.rot90(train_images[c], rotations[i])\n",
        "    return images"
      ],
      "execution_count": 0,
      "outputs": []
    },
    {
      "metadata": {
        "id": "epSPByJWRxnu",
        "colab_type": "code",
        "colab": {}
      },
      "cell_type": "code",
      "source": [
        "def next_batch():\n",
        "    rotations = []\n",
        "    rand_counts = []\n",
        "    for i in range(BATCH_SIZE):\n",
        "        rotations.append(random.randint(0, 3))\n",
        "        rand_counts.append(random.randint(0, 669))\n",
        "    return get_images(rand_counts, rotations), get_labels(rand_counts, rotations)"
      ],
      "execution_count": 0,
      "outputs": []
    },
    {
      "metadata": {
        "id": "RRfv9rPERxoE",
        "colab_type": "code",
        "colab": {}
      },
      "cell_type": "code",
      "source": [
        "tf.reset_default_graph()\n",
        "# input: image width x image height x 3 color dimensions.\n",
        "X = tf.placeholder(tf.float32, [None, IMG_WIDTH, IMG_HEIGHT, 3])\n",
        "# output: grid * grid * bounding box per cell * 5 variables (x, y, w, h, object confidence)\n",
        "Y_ = tf.placeholder(tf.float32, [None, GRID_DIM, GRID_DIM, MAX_BB_CNT, 5])\n",
        "lr = tf.placeholder(tf.float32)"
      ],
      "execution_count": 0,
      "outputs": []
    },
    {
      "metadata": {
        "id": "7LseFQxjRxoV",
        "colab_type": "code",
        "colab": {}
      },
      "cell_type": "code",
      "source": [
        "# logits: the final output from last convolutional layer.\n",
        "def process_logits(logits, name=None):\n",
        "    net = tf.reshape(logits, [-1, GRID_DIM*1, GRID_DIM*1, MAX_BB_CNT*5*16, 1])\n",
        "    # Each predicted box has only 5 varibales. So takes average value among 5 * 16 values.\n",
        "    net = tf.layers.average_pooling3d(net, [1, 1, 16], [1, 1, 16], padding=\"valid\")\n",
        "\n",
        "    # Each cell has 5 output values: (x, y, w, h, object confidence)\n",
        "    net = tf.reshape(net, [-1, GRID_DIM*GRID_DIM*MAX_BB_CNT, 5]) #GRID_DIM = 12\n",
        "    net = tf.transpose(net, [1, 2, 0])        \n",
        "\n",
        "    logits_tensor = tf.map_fn(lambda x:\n",
        "                            tf.stack([\n",
        "                                tf.tanh(x[0]),\n",
        "                                tf.tanh(x[1]),\n",
        "                                tf.sqrt(tf.sigmoid(x[2])),\n",
        "                                tf.sqrt(tf.sigmoid(x[3])),\n",
        "                                tf.sigmoid(x[4])\n",
        "                            ]), net)\n",
        "\n",
        "    logits_tensor = tf.transpose(logits_tensor, [2, 0, 1])\n",
        "    logits_tensor = tf.reshape(logits_tensor, [-1, GRID_DIM, GRID_DIM, MAX_BB_CNT, 5])\n",
        "\n",
        "    return logits_tensor"
      ],
      "execution_count": 0,
      "outputs": []
    },
    {
      "metadata": {
        "id": "kZfVuG5tRxoc",
        "colab_type": "code",
        "colab": {}
      },
      "cell_type": "code",
      "source": [
        "# Calculates loss value of model.\n",
        "def normalize_yolo_loss(processed_logits, lambda_coords, lambda_noobj):\n",
        "    # The diff between ground truth labels and predicated boxes.\n",
        "    yolo_loss = tf.reduce_sum(tf.squared_difference(labels, processed_logits), axis=0)\n",
        "    yolo_loss = tf.reduce_sum(yolo_loss, axis=0)\n",
        "    yolo_loss = tf.reduce_sum(yolo_loss, axis=0)\n",
        "    yolo_loss = tf.reduce_sum(yolo_loss, axis=0)\n",
        "\n",
        "    # (x, y) coordinate predication goes to multiply given weight: lambda_coords.\n",
        "    # (object confidence) predication goes to multiply another give weight: lambda_noobj.\n",
        "    yolo_loss = tf.stack([tf.multiply(lambda_coords, yolo_loss[0]), \n",
        "                          tf.multiply(lambda_coords, yolo_loss[1]),\n",
        "                          yolo_loss[2],\n",
        "                          yolo_loss[3],\n",
        "                          tf.multiply(lambda_noobj,yolo_loss[4])])\n",
        "    yolo_loss = tf.reduce_sum(yolo_loss)\n",
        "\n",
        "    return  yolo_loss"
      ],
      "execution_count": 0,
      "outputs": []
    },
    {
      "metadata": {
        "id": "7kjXWrAcRxov",
        "colab_type": "code",
        "colab": {}
      },
      "cell_type": "code",
      "source": [
        "def l_relu(features):\n",
        "    return tf.nn.leaky_relu(features, 0.1)"
      ],
      "execution_count": 0,
      "outputs": []
    },
    {
      "metadata": {
        "id": "X3lyzJbcRxpB",
        "colab_type": "code",
        "colab": {}
      },
      "cell_type": "code",
      "source": [
        "# Defines a squeeze layer which has only 1x1 filters.\n",
        "def squeeze_module(x, dim, idx):\n",
        "    name = 'conv_' + idx + '_sq'\n",
        "    return tf.layers.conv2d(x, filters=dim, kernel_size=1, strides=1, padding=\"same\", \n",
        "                           activation=l_relu, name=name)\n",
        "\n",
        "# Defines an expand layer which has a mix of 1x1 and 3x3 filters.\n",
        "def expand_module(x, dim, idx):\n",
        "    name = 'conv_' + idx + '_ex_' + '0'\n",
        "    net1 = tf.layers.conv2d(x, filters=dim, kernel_size=1, strides=1, padding=\"same\", \n",
        "                           activation=l_relu, name=name)\n",
        "    name = 'conv_' + idx + '_ex_' + '1'\n",
        "    net2 = tf.layers.conv2d(x, filters=dim, kernel_size=3, strides=1, padding=\"same\", \n",
        "                           activation=l_relu, name=name) \n",
        "    return tf.concat([net1, net2], 3)"
      ],
      "execution_count": 0,
      "outputs": []
    },
    {
      "metadata": {
        "id": "ZqDsscp1RxpW",
        "colab_type": "code",
        "colab": {}
      },
      "cell_type": "code",
      "source": [
        "# A Fire module is consisted of a squeeze layer and an expand layer.\n",
        "def fire_module(input_tensor, squeeze_dim, expand_dim, idx):\n",
        "    net = squeeze_module(input_tensor, squeeze_dim, idx)\n",
        "    net = expand_module(net, expand_dim, idx)\n",
        "    return net"
      ],
      "execution_count": 0,
      "outputs": []
    },
    {
      "metadata": {
        "id": "ioQ8faMDRxqm",
        "colab_type": "code",
        "colab": {}
      },
      "cell_type": "code",
      "source": [
        "# Begin to create network\n",
        "# Defines a SqueezeNet (ICLR 2017).\n",
        "# Notice: this network definition looks like a bit different to the network in SqueezeNet paper.\n",
        "\n",
        "net = tf.layers.conv2d(X, filters=32, kernel_size=1, strides=1, padding=\"same\", \n",
        "                       activation=l_relu, name='conv0') #384 \n",
        "\n",
        "net = tf.layers.max_pooling2d(net, pool_size=2, strides=2, padding=\"same\") #192\n",
        "\n",
        "net = fire_module(net, 32, 64, '0')\n",
        "net = fire_module(net, 32, 64, '1')\n",
        "net = fire_module(net, 32, 64, '2')\n",
        "\n",
        "net = tf.layers.max_pooling2d(net, pool_size=2, strides=2, padding=\"same\") #96\n",
        "\n",
        "\n",
        "net = fire_module(net, 64, 96, '3')\n",
        "net = fire_module(net, 64, 96, '4')\n",
        "net = fire_module(net, 64, 96, '5')\n",
        "\n",
        "\n",
        "net = tf.layers.max_pooling2d(net, pool_size=2, strides=2, padding=\"same\") #48\n",
        "\n",
        "net = fire_module(net, 128, 160, '6')\n",
        "net = fire_module(net, 128, 160, '7') \n",
        "net = fire_module(net, 128, 128, '8')\n",
        "\n",
        "\n",
        "net = tf.layers.max_pooling2d(net, pool_size=2, strides=2, padding=\"same\") #24\n",
        "\n",
        "net = fire_module(net, 256, 512, '9')\n",
        "net = fire_module(net, 256, 512, '10')\n",
        "net = fire_module(net, 256, 512, '11')\n",
        "\n",
        "net = tf.layers.max_pooling2d(net, pool_size=2, strides=2, padding=\"same\") #12\n",
        "\n",
        "net = fire_module(net, 512, 1024, '12')\n",
        "net = fire_module(net, 512, 1024, '13')\n",
        "net = fire_module(net, 512, 1024, '14')\n",
        "\n",
        "# Last conv layer.\n",
        "# Filter numbers are (number of predicted boxes per cell) * (variables per box) * 16\n",
        "logits = tf.layers.conv2d(net, filters=MAX_BB_CNT*5*16, kernel_size=1, strides=1, padding=\"same\",\n",
        "                       activation=None, name='conv40') #12\n",
        "\n",
        "processed_logits = process_logits(logits)\n",
        "\n",
        "labels = Y_\n",
        "\n",
        "lambda_coords = tf.constant(5.0)\n",
        "lambda_noobj = tf.constant(0.5)\n",
        "\n",
        "yolo_loss = normalize_yolo_loss(processed_logits, lambda_coords, lambda_noobj)\n",
        "\n",
        "train_op = tf.train.AdamOptimizer(lr).minimize(yolo_loss)"
      ],
      "execution_count": 0,
      "outputs": []
    },
    {
      "metadata": {
        "id": "o7hgYkAdRxqz",
        "colab_type": "code",
        "colab": {}
      },
      "cell_type": "code",
      "source": [
        "start_training = True #using pretrained model as Kaggle server doesn't allow training time more than 6 hrs.\n",
        "if not start_training:\n",
        "    test_image_id = 33\n",
        "    saver = tf.train.Saver()\n",
        "    with tf.Session() as sess:\n",
        "        saver.restore(sess, \"./models/pre-trained-model/model.ckpt\")\n",
        "        result = sess.run([processed_logits], {X: np.reshape(test_images[test_image_id], [1, 384, 384, 3])})"
      ],
      "execution_count": 0,
      "outputs": []
    },
    {
      "metadata": {
        "id": "xdP6T77KRxq3",
        "colab_type": "code",
        "colab": {
          "base_uri": "https://localhost:8080/",
          "height": 615
        },
        "outputId": "3c2bd405-68cf-456e-cce6-d7eefe8afe22"
      },
      "cell_type": "code",
      "source": [
        "if(start_training):\n",
        "    # initialize\n",
        "    init = tf.global_variables_initializer()\n",
        "    sess = tf.Session()\n",
        "    sess.run(init)\n",
        "\n",
        "    batch_count = 0\n",
        "    display_count = 1\n",
        "    global mask_count\n",
        "\n",
        "    for i in range(3300):\n",
        "        batch_X, batch_Y = next_batch()\n",
        "        batch_count += 1\n",
        "        train_loss, _ = sess.run([yolo_loss, train_op], {X: batch_X, Y_: batch_Y, lr: 0.0001})\n",
        "\n",
        "        if(i % 100 == 0):\n",
        "            print(str(display_count) + \" training loss(\" + str(mask_count) + \"): \" + str(train_loss))\n",
        "            display_count +=1\n",
        "        mask_count = 0\n",
        "    print(\"Done!\")"
      ],
      "execution_count": 34,
      "outputs": [
        {
          "output_type": "stream",
          "text": [
            "1 training loss(1747): 4278.211\n",
            "2 training loss(640): 335.7566\n",
            "3 training loss(544): 268.99313\n",
            "4 training loss(648): 291.2823\n",
            "5 training loss(477): 243.86563\n",
            "6 training loss(708): 241.25269\n",
            "7 training loss(743): 192.71835\n",
            "8 training loss(531): 129.63852\n",
            "9 training loss(683): 125.52626\n",
            "10 training loss(660): 117.99341\n",
            "11 training loss(631): 98.153854\n",
            "12 training loss(393): 68.14528\n",
            "13 training loss(414): 48.771812\n",
            "14 training loss(486): 64.93521\n",
            "15 training loss(481): 75.795006\n",
            "16 training loss(782): 63.43609\n",
            "17 training loss(887): 103.0947\n",
            "18 training loss(591): 81.386505\n",
            "19 training loss(647): 62.249516\n",
            "20 training loss(638): 75.853806\n",
            "21 training loss(532): 80.4324\n",
            "22 training loss(895): 82.86041\n",
            "23 training loss(987): 77.87375\n",
            "24 training loss(442): 54.96698\n",
            "25 training loss(623): 85.628555\n",
            "26 training loss(597): 76.39243\n",
            "27 training loss(324): 41.28681\n",
            "28 training loss(418): 27.960213\n",
            "29 training loss(443): 31.12793\n",
            "30 training loss(344): 40.068176\n",
            "31 training loss(1325): 88.12044\n",
            "32 training loss(964): 56.036095\n",
            "33 training loss(748): 46.541462\n",
            "Done!\n"
          ],
          "name": "stdout"
        }
      ]
    },
    {
      "metadata": {
        "id": "epRQV67kRxrM",
        "colab_type": "code",
        "colab": {}
      },
      "cell_type": "code",
      "source": [
        "if(start_training):\n",
        "    test_image_id = 15\n",
        "    result = sess.run([processed_logits], {X: np.reshape(test_images[test_image_id], [1, 384, 384, 3])})"
      ],
      "execution_count": 0,
      "outputs": []
    },
    {
      "metadata": {
        "id": "wPpa5L23RxrV",
        "colab_type": "code",
        "colab": {
          "base_uri": "https://localhost:8080/",
          "height": 35
        },
        "outputId": "2dbf2f4d-271e-48ab-9f97-527673b281b5"
      },
      "cell_type": "code",
      "source": [
        "boxes = result[0]\n",
        "print(boxes.shape)\n",
        "boxes = np.reshape(boxes, newshape=[GRID_DIM, GRID_DIM, MAX_BB_CNT, 5])\n",
        "bbs = []\n",
        "\n",
        "for i in range(GRID_DIM):\n",
        "    for j in range(GRID_DIM):\n",
        "        for b in range(MAX_BB_CNT):\n",
        "            if(boxes[i][j][b][4]> 0.1):\n",
        "                grid_center_x = ((j+0)*GRID_PIX + GRID_PIX/2)\n",
        "                grid_center_y = ((i+0)*GRID_PIX + GRID_PIX/2)\n",
        "                \n",
        "                new_box_center_x = boxes[i][j][b][0] * IMG_WIDTH + grid_center_x\n",
        "                new_box_center_y = boxes[i][j][b][1] * IMG_HEIGHT + grid_center_y\n",
        "\n",
        "                new_w = np.square(boxes[i][j][b][2]) * IMG_WIDTH\n",
        "                new_h = np.square(boxes[i][j][b][3]) * IMG_HEIGHT\n",
        "                \n",
        "                x1 = new_box_center_x - new_w/2\n",
        "                y1 = new_box_center_y - new_h/2\n",
        "\n",
        "                x2 = new_box_center_x + new_w/2\n",
        "                y2 = new_box_center_y + new_h/2\n",
        "\n",
        "                bbs.append((math.floor(x1), math.floor(y1), math.ceil(x2), math.ceil(y2)))"
      ],
      "execution_count": 43,
      "outputs": [
        {
          "output_type": "stream",
          "text": [
            "(1, 12, 12, 2, 5)\n"
          ],
          "name": "stdout"
        }
      ]
    },
    {
      "metadata": {
        "id": "TO-kSmwgRxrZ",
        "colab_type": "code",
        "colab": {
          "base_uri": "https://localhost:8080/",
          "height": 369
        },
        "outputId": "1494b189-3af3-4116-dc00-9bf397b9e6ce"
      },
      "cell_type": "code",
      "source": [
        "img = test_images[test_image_id]\n",
        "f, axs = plt.subplots(1,2)\n",
        "axs[0].imshow(img)\n",
        "\n",
        "imshow(img)\n",
        "for i, b in enumerate(bbs):\n",
        "    cv2.rectangle(img,(b[0], b[1]),(b[2], b[3]),(0,255,0),2)\n",
        "\n",
        "axs[1].imshow(img)"
      ],
      "execution_count": 44,
      "outputs": [
        {
          "output_type": "stream",
          "text": [
            "/usr/local/lib/python3.6/dist-packages/skimage/io/_plugins/matplotlib_plugin.py:51: FutureWarning: Conversion of the second argument of issubdtype from `float` to `np.floating` is deprecated. In future, it will be treated as `np.float64 == np.dtype(float).type`.\n",
            "  out_of_range_float = (np.issubdtype(image.dtype, np.float) and\n"
          ],
          "name": "stderr"
        },
        {
          "output_type": "execute_result",
          "data": {
            "text/plain": [
              "<matplotlib.image.AxesImage at 0x7f477835de80>"
            ]
          },
          "metadata": {
            "tags": []
          },
          "execution_count": 44
        },
        {
          "output_type": "display_data",
          "data": {
            "image/png": "[encoded data removed]",
            "text/plain": [
              "<matplotlib.figure.Figure at 0x7f47783d1d68>"
            ]
          },
          "metadata": {
            "tags": []
          }
        }
      ]
    },
    {
      "metadata": {
        "id": "yIJqVXcURxrq",
        "colab_type": "code",
        "colab": {}
      },
      "cell_type": "code",
      "source": [
        ""
      ],
      "execution_count": 0,
      "outputs": []
    },
    {
      "metadata": {
        "id": "ei-AACR8Rxru",
        "colab_type": "code",
        "colab": {}
      },
      "cell_type": "code",
      "source": [
        ""
      ],
      "execution_count": 0,
      "outputs": []
    },
    {
      "metadata": {
        "id": "HsHMImMiRxr1",
        "colab_type": "code",
        "colab": {}
      },
      "cell_type": "code",
      "source": [
        ""
      ],
      "execution_count": 0,
      "outputs": []
    },
    {
      "metadata": {
        "id": "C0NExgT1Rxr7",
        "colab_type": "code",
        "colab": {}
      },
      "cell_type": "code",
      "source": [
        ""
      ],
      "execution_count": 0,
      "outputs": []
    }
  ]
}